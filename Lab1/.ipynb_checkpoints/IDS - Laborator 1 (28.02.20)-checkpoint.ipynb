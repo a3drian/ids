{
 "cells": [
  {
   "cell_type": "markdown",
   "metadata": {},
   "source": [
    "# Exercitii"
   ]
  },
  {
   "cell_type": "markdown",
   "metadata": {},
   "source": [
    "# 1. \n",
    "(fizz-buzz test) Sa se scrie numerele de la 1 la n; pentru fiecare multiplu de 2 se va scrie in locul numarului\n",
    "'Fizz', pentru multiplu al lui 5 se va scrie 'Buzz'; daca numarul este multiplu de 10 se va scrie in locul lui\n",
    "'FizzBuzz'."
   ]
  },
  {
   "cell_type": "code",
   "execution_count": null,
   "metadata": {},
   "outputs": [],
   "source": [
    "n_1 = input('n: ')\n",
    "\n",
    "for i in range(1, int(n_1) + 1):\n",
    "    if i % 10 == 0:\n",
    "        print('FizzBuzz')\n",
    "    elif i % 5 == 0:\n",
    "        print('Buzz')\n",
    "    elif i % 2 == 0:\n",
    "        print('Fizz')\n",
    "    else:\n",
    "        print(i)"
   ]
  },
  {
   "cell_type": "markdown",
   "metadata": {},
   "source": [
    "# 2.\n",
    "Sa se calculeze scorul Scrabble al unui cuvant. Fiecare litera are asignata o anumita valoare (e.g. 'a' -> 3, 'f'\n",
    "->7, 'z' -> 23; setati valori intr-un dictionar), iar scorul cuvantului se calculeaza ca suma scorurilor literelor\n",
    "componente. Literele mari si mici au aceeasi valoare."
   ]
  },
  {
   "cell_type": "code",
   "execution_count": null,
   "metadata": {},
   "outputs": [],
   "source": [
    "score = {\"a\": 1 , \"b\": 3 , \"c\": 3 , \"d\": 2 ,\n",
    "         \"e\": 1 , \"f\": 4 , \"g\": 2 , \"h\": 4 ,\n",
    "         \"i\": 1 , \"j\": 8 , \"k\": 5 , \"l\": 1 ,\n",
    "         \"m\": 3 , \"n\": 1 , \"o\": 1 , \"p\": 3 ,\n",
    "         \"q\": 10, \"r\": 1 , \"s\": 1 , \"t\": 1 ,\n",
    "         \"u\": 1 , \"v\": 4 , \"w\": 4 , \"x\": 8 ,\n",
    "         \"y\": 4 , \"z\": 10}\n",
    "\n",
    "word = input(\"Word: \")\n",
    "\n",
    "sum_score = 0\n",
    "for w in word:\n",
    "    # print(score[w])\n",
    "    sum_score += score[w]\n",
    "print(\"'\", word, \"' score:\", sum_score)"
   ]
  },
  {
   "cell_type": "markdown",
   "metadata": {},
   "source": [
    "# 3.\n",
    "Sa se determine daca doua cuvinte sunt unul anagrama celuilalt; exemplu LIBIA -> ABILI. Considerati\n",
    "sortarea caracterelor unui cuvant."
   ]
  },
  {
   "cell_type": "code",
   "execution_count": null,
   "metadata": {},
   "outputs": [],
   "source": [
    "w = \"LIBIA\"\n",
    "c = \"ABILI\"\n",
    "\n",
    "a = sorted(w)\n",
    "b = sorted(c)\n",
    "\n",
    "i = 0\n",
    "ok = True\n",
    "\n",
    "for i in range(0, len(w)):\n",
    "    if(a[i] != b[i]):\n",
    "        ok = False\n",
    "        break\n",
    "\n",
    "if ok == True:\n",
    "    print(w, \"=\", c)\n",
    "    print(\"Anagrama.\")  \n",
    "else:\n",
    "    print(\"not Anagrama.\")"
   ]
  },
  {
   "cell_type": "markdown",
   "metadata": {},
   "source": [
    "# 4.\n",
    "Sa se verifice conjectura Collatz (https://en.wikipedia.org/wiki/Collatz_conjecture) pentru numerele intre 1 si\n",
    "1000."
   ]
  },
  {
   "cell_type": "code",
   "execution_count": null,
   "metadata": {},
   "outputs": [],
   "source": [
    "def par(n):\n",
    "    if n % 2 == 0:\n",
    "        return 1\n",
    "    return 0\n",
    "\n",
    "def Collatz(n):\n",
    "    print(n, end = \" \")\n",
    "    if par(n) == 1:\n",
    "        # print(\"even\")\n",
    "        n = n / 2\n",
    "    else:\n",
    "        # print(\"odd\")\n",
    "        n = 3 * n + 1\n",
    "    return int(n) # altfel il face float\n",
    "        \n",
    "n = 12\n",
    "print(\"Test:\")\n",
    "while n != 1:\n",
    "    n = Collatz(n)\n",
    "print(n)\n",
    "\n",
    "print(\"1-1000:\")\n",
    "for i in range(1, 1000 + 1):\n",
    "    while i != 1:\n",
    "        i = Collatz(i)\n",
    "    print(i)"
   ]
  },
  {
   "cell_type": "markdown",
   "metadata": {},
   "source": [
    "# 5.\n",
    "Sa se determine daca doua liste sunt una permutarea circulara a celeilalte. Exemplu: [1, 2, 3, 4] si [3, 4, 1,\n",
    "2] sunt in aceasta situatie, dar nu si [1, 2, 3, 4] cu [3, 4, 2, 1]."
   ]
  },
  {
   "cell_type": "code",
   "execution_count": null,
   "metadata": {},
   "outputs": [],
   "source": [
    "a = [1,2,3,4]\n",
    "b = [3,4,1,2]\n",
    "\n",
    "c = [3,4,2,1]\n",
    "\n",
    "def permutare(a, b):\n",
    "    for i in range(1, len(a)):\n",
    "        x = a[0]\n",
    "        # print(\"x:\",x)\n",
    "        a = a[1:]\n",
    "        a.append(x)\n",
    "        # print(a)\n",
    "\n",
    "        if a == b:\n",
    "            return 1\n",
    "\n",
    "def check(a, b):\n",
    "    if permutare(a, b) == 1:\n",
    "        print(\"Permutare circulara.\")\n",
    "        print(a, \"=\", b)\n",
    "    else:\n",
    "        print(\"Lista nu este o permutare circulara.\")\n",
    "        \n",
    "check(a,b)"
   ]
  },
  {
   "cell_type": "markdown",
   "metadata": {},
   "source": [
    "# 6.\n",
    "Plecand de la o lista cu numere naturale, sa se creeze numarul obtinut prin concatenarea cifrelor existente.\n",
    "Exemplu: [11, 3, 24, 0, 993] -> 113240993."
   ]
  },
  {
   "cell_type": "code",
   "execution_count": null,
   "metadata": {},
   "outputs": [],
   "source": [
    "a = [11, 3, 24, 0, 993]\n",
    "\n",
    "s = \"\"\n",
    "\n",
    "for x in a:\n",
    "    # print(x)\n",
    "    s += str(x)\n",
    "print(a)\n",
    "print(\"Numarul obtinut:\",s)"
   ]
  },
  {
   "cell_type": "markdown",
   "metadata": {},
   "source": [
    "# 7.\n",
    "Sa se creeze o functie care preia un numar n si returneaza un alt numar pe baza cifrelor lui n, astfel: se calculeaza numarul cifrelor pare din n (fie el si 0), numarul de cifre impare (poate fi si 0), suma lor si se formeaza numarul din acestea 2; daca exista zero nesemnificativ, acesta se va ignora. Numarul obtinut se va supune aceleiasi transformari. <br>\n",
    "Exemplu: 3->11->22->202->303->123->123->123... Verificati ca dupa un numar finit de transformari se ajunge la numarul 123; faceti aceste verificari pentru numerele din intervalul [1,1000]."
   ]
  },
  {
   "cell_type": "code",
   "execution_count": null,
   "metadata": {},
   "outputs": [],
   "source": [
    "def par(x):\n",
    "    if x % 2 == 0:\n",
    "        return 1\n",
    "    return 0\n",
    "\n",
    "def sterge_zero(n): # returneaza indexul de la care nu mai exista 0 in numar\n",
    "    i = 0\n",
    "    while n[i] == \"0\":\n",
    "        i = i + 1\n",
    "    return i\n",
    "\n",
    "def transform(n):\n",
    "    evens = 0\n",
    "    odds = 0\n",
    "    for i in n:\n",
    "        x = int(i)\n",
    "        if par(x) == 1:\n",
    "            print(x,\"cifra para\")\n",
    "            evens += 1\n",
    "        else:\n",
    "            print(x,\"cifra impara\")\n",
    "            odds += 1\n",
    "    rezultat = evens + odds\n",
    "    s = str(evens) + str(odds) + str(rezultat)\n",
    "    return s\n",
    "\n",
    "n = \"3\"\n",
    "\n",
    "def calculate(n):\n",
    "    index = sterge_zero(n)\n",
    "    print(\"n:\",n)\n",
    "    print(\"n fara zero:\",n[index:])\n",
    "    y = transform(n[index:])\n",
    "    print(n, \"=>\", y)\n",
    "    print()\n",
    "    return y\n",
    "    \n",
    "def result(n):\n",
    "    while n != \"123\":\n",
    "        n = calculate(n)\n",
    "    \n",
    "for i in range(1, 1000 + 1):\n",
    "    print(i)\n",
    "    i = str(i)\n",
    "    i = result(i)\n",
    "    print(\"--------------------\")"
   ]
  },
  {
   "cell_type": "markdown",
   "metadata": {},
   "source": [
    "# 8.\n",
    "Se pleaca de la un numar intreg. Fiecare cifra a sa se scrie cu litere, in limba engleza (de exemplu 5->five).\n",
    "Calculati numarul total de caractere rezultate, iar pentru numarul obtinut repetati procedura. Verificati pentru\n",
    "numerele de la 1 la n ca se obtine intr-un numar finit de pasi numarul 4. Exemplu:\n",
    "123->onetwothree->11->oneone->6->six->3->three->5->five->4->four->4->four...."
   ]
  },
  {
   "cell_type": "code",
   "execution_count": null,
   "metadata": {},
   "outputs": [],
   "source": [
    "numbers = { # 49 chars\n",
    "    \"1\":\"one\",\n",
    "    \"2\":\"two\",\n",
    "    \"3\":\"three\",\n",
    "    \"4\":\"four\",\n",
    "    \"5\":\"five\",\n",
    "    \"6\":\"six\",\n",
    "    \"7\":\"seven\",\n",
    "    \"8\":\"eight\",\n",
    "    \"9\":\"nine\",\n",
    "    \"0\":\"zero\"\n",
    "}\n",
    "\n",
    "def convert(n):\n",
    "    s = \"\"\n",
    "    for x in n:\n",
    "        s += numbers[x]\n",
    "    print(n,\"=>\",s)\n",
    "    print(len(s))\n",
    "    return len(s)\n",
    "\n",
    "def calculate(n):\n",
    "    while True:   \n",
    "        n = str(n)\n",
    "        n = convert(n)\n",
    "        if n == 4:\n",
    "            return 1\n",
    "\n",
    "n = \"123\"     \n",
    "calculate(n)"
   ]
  },
  {
   "cell_type": "markdown",
   "metadata": {},
   "source": [
    "# 9.\n",
    "Este rezultatul de mai sus valabil si pentru transcriere in limba romana/maghiara/franceza/alta limba la\n",
    "alegere?"
   ]
  },
  {
   "cell_type": "markdown",
   "metadata": {},
   "source": [
    "Raspuns: nu. Pentru RO/HU/FR procesul se stabilizeaza in cifra 5."
   ]
  },
  {
   "cell_type": "code",
   "execution_count": null,
   "metadata": {},
   "outputs": [],
   "source": [
    "numbers_RO = { # 49 caractere in total\n",
    "    \"1\":\"unu\",\n",
    "    \"2\":\"doi\",\n",
    "    \"3\":\"trei\",\n",
    "    \"4\":\"patru\",\n",
    "    \"5\":\"cinci\",\n",
    "    \"6\":\"sase\",\n",
    "    \"7\":\"sapte\",\n",
    "    \"8\":\"opt\",\n",
    "    \"9\":\"noua\",\n",
    "    \"0\":\"zero\"\n",
    "}\n",
    "\n",
    "numbers_HU = { # 50 caractere\n",
    "    \"1\":\"egy\",\n",
    "    \"2\":\"ketto\",\n",
    "    \"3\":\"harom\",\n",
    "    \"4\":\"negy\",\n",
    "    \"5\":\"ot\",\n",
    "    \"6\":\"hat\",\n",
    "    \"7\":\"het\",\n",
    "    \"8\":\"nyolc\",\n",
    "    \"9\":\"kilenc\",\n",
    "    \"0\":\"nulla\"\n",
    "}\n",
    "\n",
    "numbers_FR = { # 49 chars\n",
    "    \"1\":\"un\",\n",
    "    \"2\":\"deux\",\n",
    "    \"3\":\"trois\",\n",
    "    \"4\":\"quatre\",\n",
    "    \"5\":\"cinq\",\n",
    "    \"6\":\"six\",\n",
    "    \"7\":\"sept\",\n",
    "    \"8\":\"huit\",\n",
    "    \"9\":\"neuf\",\n",
    "    \"0\":\"zero\"\n",
    "}\n",
    "\n",
    "def convert(n):\n",
    "    s = \"\"\n",
    "    for x in n:\n",
    "        s += numbers_FR[x]\n",
    "    print(n,\"=>\",s)\n",
    "    print(len(s))\n",
    "    return len(s)\n",
    "\n",
    "def calculate(n):\n",
    "    while True:   \n",
    "        n = str(n)\n",
    "        n = convert(n)\n",
    "        if n == 5: # RO/HU/FR se stabilizeaza in 5\n",
    "            return 1\n",
    "\n",
    "n = \"489\"     \n",
    "calculate(n)"
   ]
  },
  {
   "cell_type": "markdown",
   "metadata": {},
   "source": [
    "# 10.\n",
    "Se pleaca de la un numar n; se scriu toti divizorii sai, inclusiv 1 si n; se aduna cifrele tuturor acestor divizori; pentru numarul obtinut se aplica acelasi procedeu. Verificati ca procesul se stabilizeaza in numarul 15, pentru un n initial oarecare. <br>\n",
    "Exemplu: 20->1, 2, 4, 5, 10, 20 -> suma cifrelor: 15->1, 3, 5, 15-> suma cifrelor: 15..."
   ]
  },
  {
   "cell_type": "code",
   "execution_count": null,
   "metadata": {},
   "outputs": [],
   "source": [
    "def divizori(n):\n",
    "    a = \"\"\n",
    "    for i in range(1, n + 1):\n",
    "        if n % i == 0:\n",
    "            print(i, end=\" \")\n",
    "            a += str(i)\n",
    "    return a\n",
    "\n",
    "def sum_digits(a):\n",
    "    suma = 0\n",
    "    for i in a:\n",
    "        x = int(i)\n",
    "        # print(x)\n",
    "        suma += x\n",
    "    return suma\n",
    "\n",
    "def calculate(n):\n",
    "    print(n, \"=>\", end=\" \")\n",
    "    a = divizori(n)\n",
    "    result = sum_digits(a)\n",
    "    print()\n",
    "    print(\"Suma cifrelor:\", result)\n",
    "    return result\n",
    "        \n",
    "def proces(n):\n",
    "    while True:\n",
    "        n = calculate(n)\n",
    "        if n == 15:\n",
    "            print(\"Procesul s-a stabilizat in numarul 15.\")\n",
    "            break\n",
    "        print()\n",
    "        \n",
    "n = 10089\n",
    "proces(n)"
   ]
  }
 ],
 "metadata": {
  "kernelspec": {
   "display_name": "Python 3",
   "language": "python",
   "name": "python3"
  },
  "language_info": {
   "codemirror_mode": {
    "name": "ipython",
    "version": 3
   },
   "file_extension": ".py",
   "mimetype": "text/x-python",
   "name": "python",
   "nbconvert_exporter": "python",
   "pygments_lexer": "ipython3",
   "version": "3.7.6"
  }
 },
 "nbformat": 4,
 "nbformat_minor": 4
}

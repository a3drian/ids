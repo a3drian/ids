{
 "cells": [
  {
   "cell_type": "markdown",
   "metadata": {},
   "source": [
    "# Laborator 3"
   ]
  },
  {
   "cell_type": "code",
   "execution_count": 1,
   "metadata": {},
   "outputs": [],
   "source": [
    "import matplotlib.pyplot as plt\n",
    "import numpy as np\n",
    "\n",
    "import ipywidgets as widgets\n",
    "from ipywidgets import interact, interactive, fixed, interact_manual"
   ]
  },
  {
   "cell_type": "markdown",
   "metadata": {},
   "source": [
    "### Exercitiul 1 (clasa)"
   ]
  },
  {
   "cell_type": "markdown",
   "metadata": {},
   "source": [
    "1. (la clasa) Consideram functia $f(x) = x^2$ si punctul $P=(5, 3)$. Folosind controale grafice ipywidgets, sa se modifice functia $f$ prin translatarea ei pe orizontala si pe verticala, a.i. minimul functiei sa sa afle in punctul $P$; a se vedea mai jos exemplu de translatie pe verticala. Se cere desenarea axelor Ox si Oy cu reprezentarea puntului $P$ printr-un dreptunghi, desenarea functiei $f$ folosind o curba de 50 de puncte. Se vor determina coeficientii necesari mutarii functiei si se vor defini controale pentru acestea. ![vertical translation](./images/vertical_translation.png)"
   ]
  },
  {
   "cell_type": "code",
   "execution_count": null,
   "metadata": {},
   "outputs": [],
   "source": [
    "def plt_arrays(x, y, title=\"\", color=\"red\", linestyle=\"solid\", linewidth=2):\n",
    "    fig = plt.figure()\n",
    "    axes = fig.add_subplot(111)\n",
    "    axes.plot(x, y, color = color, linestyle = linestyle, linewidth = linewidth)\n",
    "    axes.set_title(title)\n",
    "    axes.grid()\n",
    "    plt.show()"
   ]
  },
  {
   "cell_type": "code",
   "execution_count": null,
   "metadata": {},
   "outputs": [],
   "source": [
    "def functie(a, b, c, **kwargs):\n",
    "    x = np.linspace(-10, 10, 20)\n",
    "    y = a*(x**2) + b*c + c\n",
    "    \n",
    "    title = \"$f(x) = (%s)x^{2} + (%s)x + (%s)$\" % (a,b,c)\n",
    "    title += \"\\n\"\n",
    "    \n",
    "    plt_arrays(x, y, title=title, **kwargs)"
   ]
  },
  {
   "cell_type": "code",
   "execution_count": null,
   "metadata": {},
   "outputs": [],
   "source": [
    "f = interact(\n",
    "    functie,\n",
    "    a=(-5.,10.),\n",
    "    b=(-5.,10.),\n",
    "    c=(-5.,10.),\n",
    "    )"
   ]
  },
  {
   "cell_type": "markdown",
   "metadata": {},
   "source": [
    "### Exercitiul 1 (3 puncte)"
   ]
  },
  {
   "cell_type": "markdown",
   "metadata": {},
   "source": [
    "1. (3 puncte) Generati o lista de 20 de perechi de valori $\\{x_i, y_i\\}_{i=0,19}$ in intervalul [0, 10), afisati aceste valori pe un grafic, impreuna cu o dreapta definita de o functie liniara $y=a*x+b$. Intr-un alt plot afisati, ca histograma, distanta dintre un punct de coordonate $(x_i, y_i)$ si punctul de intersectie a verticalei duse prin $x_i$ cu dreapta data. Dreapta trebuie sa fie controlabila din widgets, prin cei doi coeficienti. Constatati modificarea histogramei in functie de pozitia dreptei si calculati suma: $\\sum_{i=0}^{19} (y_i - (a\\cdot x_i + b))^2$, adica suma patratelor lungimilor segmentelor verzi de mai jos.\n",
    "![linear regression](./images/linreg.png)\n",
    "*Indicatii:*\n",
    "    1. Pentru generare de valori distribuite uniform in intervalul [0, 1) puteti folosi functia [numy.random.uniform](https://docs.scipy.org/doc/numpy/reference/generated/numpy.random.uniform.html) iar vectorul obtinut sa il inmultiti cu 10; in felul acesta, numerele generate vor fi uniform distribuite in intervalul $[0, 10)$.\n",
    "    1. Puteti opta sa returnati cele 20 de puncte sub forma `vector_x`, `vector_y`."
   ]
  },
  {
   "cell_type": "markdown",
   "metadata": {},
   "source": [
    "### Parametri"
   ]
  },
  {
   "cell_type": "code",
   "execution_count": null,
   "metadata": {},
   "outputs": [],
   "source": [
    "n = 20\n",
    "left = 0\n",
    "right = 1"
   ]
  },
  {
   "cell_type": "code",
   "execution_count": null,
   "metadata": {},
   "outputs": [],
   "source": [
    "def draw_random(left: int, right: int, n: int) -> np.array:\n",
    "    \n",
    "    \"\"\"\n",
    "    Functia \n",
    "    \"\"\"\n",
    "    \n",
    "    r = np.random.uniform(low = left, high = right, size = n)\n",
    "#     r = np.random.randint(low = left, high = right, size = n)\n",
    "#     print(\"r:\", r)\n",
    "    \n",
    "    v = r * 10\n",
    "#     print(\"v:\", v)\n",
    "    \n",
    "    return v\n",
    "\n",
    "# x = draw_random(left, right, n)\n",
    "# y = draw_random(left, right, n)\n",
    "\n",
    "# print(\"x:\", x)\n",
    "# print(\"y:\", y)"
   ]
  },
  {
   "cell_type": "markdown",
   "metadata": {},
   "source": [
    "### Definitie functie"
   ]
  },
  {
   "cell_type": "code",
   "execution_count": null,
   "metadata": {},
   "outputs": [],
   "source": [
    "def get_y(a, x, b):\n",
    "    \n",
    "    \"\"\"\n",
    "    Returneaza calculul unei functii de gradul 1 (a * x + b).\n",
    "    :param a: coeficientul lui x\n",
    "    :param b: termenul liber\n",
    "    :param x: x\n",
    "    \"\"\"\n",
    "    \n",
    "    y = a * x + b\n",
    "    return y"
   ]
  },
  {
   "cell_type": "markdown",
   "metadata": {},
   "source": [
    "### Determinarea punctelor"
   ]
  },
  {
   "cell_type": "code",
   "execution_count": null,
   "metadata": {},
   "outputs": [],
   "source": [
    "vector_x = draw_random(left, right, n)\n",
    "vector_y = draw_random(left, right, n)\n",
    "\n",
    "# print(\"x:\", vector_x)\n",
    "# print(\"y:\", vector_y)"
   ]
  },
  {
   "cell_type": "markdown",
   "metadata": {},
   "source": [
    "### Generare grafic"
   ]
  },
  {
   "cell_type": "code",
   "execution_count": null,
   "metadata": {},
   "outputs": [],
   "source": [
    "colours_options = ['pink', 'coral', 'teal', 'orange']\n",
    "# colours_options = ['pink', 'pink', 'pink', 'pink', 'pink'] # :)\n",
    "\n",
    "colours = widgets.Dropdown(\n",
    "    options=colours_options,\n",
    "    value='pink',\n",
    "    description='Culoare:',\n",
    "    disabled=False,\n",
    ")\n",
    "\n",
    "# display(colours)"
   ]
  },
  {
   "cell_type": "code",
   "execution_count": null,
   "metadata": {},
   "outputs": [],
   "source": [
    "def ex_2(a, b, colours):\n",
    "    \n",
    "    points = zip(vector_x, vector_y)\n",
    "    \n",
    "    range_x = np.linspace(0, 10, 20)\n",
    "    \n",
    "    range_y = get_y(a, range_x, b)\n",
    "    \n",
    "    fig, (func, histogram) = plt.subplots(1, 2, sharex=False, sharey=False, figsize=(16, 5))\n",
    "    kwargs = dict(rwidth=0.7, density=True, alpha=0.75, ec='k', linewidth=1)\n",
    "\n",
    "    func.set_xlabel('x')\n",
    "    func.set_ylabel('y')\n",
    "    \n",
    "    func.plot(range_x, range_y, color='blue')\n",
    "    \n",
    "    y_hat = get_y(a, vector_x, b)\n",
    "    y_hat_sq = y_hat**2\n",
    "    error = y_hat - vector_y\n",
    "    error_sq = error**2\n",
    "    \n",
    "    func.vlines(vector_x, vector_y, y_hat, colors=colours)\n",
    "    \n",
    "#     print(\"vector_x:\", vector_x)\n",
    "#     print(\"vector_y:\", vector_y)\n",
    "#     print(\"y_hat:\", y_hat)\n",
    "#     print(\"error:\", error)\n",
    "    \n",
    "    d = (vector_y - get_y(a, vector_x, b))**2\n",
    "    d = np.sqrt(d)\n",
    "    suma = np.sum(d)\n",
    "#     print(\"sum:\", suma)\n",
    "#     print(\"d:\")\n",
    "#     for i in d:\n",
    "#         print(round(i, 2), end=\" \")\n",
    "    \n",
    "    area = np.pi * 3\n",
    "    func.scatter(vector_x, vector_y, color='blue', s=area)\n",
    "    \n",
    "    legend = ['zero error']\n",
    "    histogram.axvline(x=0, color='blue')\n",
    "    histogram.set_xlabel('errors')\n",
    "    histogram.set_ylabel('error instances')\n",
    "    histogram.hist(error, bins='sqrt', rwidth=0.75, facecolor=colours)\n",
    "    histogram.legend(legend)\n",
    "    \n",
    "    title = str(a) + '$\\cdot x + $' + str(b) + \", cu $\\sum_{i=0}^{19} (y_i - (a\\cdot x_i + b))^2$ = \" + str(round(suma, 2))\n",
    "    title += \"\\n\"\n",
    "    fig.suptitle(title)\n",
    "    \n",
    "    plt.show()"
   ]
  },
  {
   "cell_type": "markdown",
   "metadata": {},
   "source": [
    "### Apel widget"
   ]
  },
  {
   "cell_type": "code",
   "execution_count": null,
   "metadata": {
    "scrolled": false
   },
   "outputs": [],
   "source": [
    "minim = -10\n",
    "maxim = 10\n",
    "step = 1\n",
    "\n",
    "w1 = widgets.IntSlider(\n",
    "    value=2,\n",
    "    min=minim,\n",
    "    max=maxim,\n",
    "    step=step,\n",
    "    description='Coef. x:',\n",
    "    disabled=False,\n",
    "    continuous_update=False,\n",
    "    orientation='horizontal',\n",
    "    readout=True,\n",
    "    readout_format='d'\n",
    ")\n",
    "\n",
    "w2 = widgets.IntSlider(\n",
    "    value=4,\n",
    "    min=minim,\n",
    "    max=maxim,\n",
    "    step=step,\n",
    "    description='Termen liber:',\n",
    "    disabled=False,\n",
    "    continuous_update=True,\n",
    "    orientation='horizontal',\n",
    "    readout=True,\n",
    "    readout_format='d'\n",
    ")\n",
    "\n",
    "f = interact(\n",
    "    ex_2,\n",
    "    a=w1,\n",
    "    b=w2,\n",
    "    colours=colours\n",
    "    )"
   ]
  },
  {
   "cell_type": "markdown",
   "metadata": {},
   "source": [
    "### Exercitiul 2 (5 puncte)"
   ]
  },
  {
   "cell_type": "markdown",
   "metadata": {},
   "source": [
    "1. (5 puncte) Incarcati fisierul `data/carbon_nanotubes.csv` (adaptare dupa [Carbon Nanotubes Data Set](http://archive.ics.uci.edu/ml/datasets/Carbon+Nanotubes)). In functie de alegerile exprimate de un utilizator, afisati intr-un grafic 2D coloanele numerice alese (de exemplu, coloana 0 si coloana 2).\n",
    "*Indicatii/optiuni*:\n",
    "    1. Incarcarea de date se poate face cu numpy, functia [loadtxt](https://docs.scipy.org/doc/numpy/reference/generated/numpy.loadtxt.html). Specificati faptul ca se sare peste prima linie din fisier (header). Alternativ, puteti folosi [pandas.read_csv](https://pandas.pydata.org/pandas-docs/stable/reference/api/pandas.read_csv.html).\n",
    "    1. Numarul de coloane din setul de date se poate afla cu `data.shape[1]`.\n",
    "    1. Pentru cele doua alegeri puteti sa instantiati doua obiecte [Dropdown](https://ipywidgets.readthedocs.io/en/stable/examples/Widget%20List.html#Dropdown) sau [Select](https://ipywidgets.readthedocs.io/en/stable/examples/Widget%20List.html#Select).\n",
    "    1. Daca in variabila `data` sunt datele incarcate, selectarea coloanei `i` se face cu `data[:, i]`."
   ]
  },
  {
   "cell_type": "markdown",
   "metadata": {},
   "source": [
    "### Citire"
   ]
  },
  {
   "cell_type": "code",
   "execution_count": null,
   "metadata": {},
   "outputs": [],
   "source": [
    "file = \"data/carbon_nanotubes.csv\"\n",
    "info = np.genfromtxt(file, dtype=str, delimiter=',', max_rows=1)\n",
    "data = np.genfromtxt(file, dtype=float, delimiter=',', skip_header=1)\n",
    "\n",
    "for i in range(8):\n",
    "    print(info[i])\n",
    "\n",
    "for i in range(5):\n",
    "    print(data[i])"
   ]
  },
  {
   "cell_type": "code",
   "execution_count": null,
   "metadata": {},
   "outputs": [],
   "source": [
    "lines = info.shape[0]\n",
    "\n",
    "print(\"lines:\", lines)"
   ]
  },
  {
   "cell_type": "code",
   "execution_count": null,
   "metadata": {},
   "outputs": [],
   "source": [
    "lines = data.shape[0]\n",
    "columns = data.shape[1]\n",
    "\n",
    "print(\"lines:\", lines)\n",
    "print(\"columns:\", columns)"
   ]
  },
  {
   "cell_type": "code",
   "execution_count": null,
   "metadata": {},
   "outputs": [],
   "source": [
    "optiuni = np.array([i for i in info])\n",
    "\n",
    "dropdown_options = []\n",
    "counter = 0\n",
    "for o in optiuni:\n",
    "    aux = (o, counter)\n",
    "    dropdown_options.append(aux)\n",
    "    counter += 1\n",
    "\n",
    "# print(\"dx_opt:\")\n",
    "# for i in dx_opt:\n",
    "#     print(i)\n",
    "    \n",
    "c1 = widgets.Dropdown(\n",
    "    options=dropdown_options,\n",
    "    value=5,\n",
    "    description='Ox:',\n",
    "    disabled=False,\n",
    ")\n",
    "\n",
    "c2 = widgets.Dropdown(\n",
    "    options=dropdown_options,\n",
    "    value=3,\n",
    "    description='Oy:',\n",
    "    disabled=False,\n",
    ")"
   ]
  },
  {
   "cell_type": "code",
   "execution_count": null,
   "metadata": {},
   "outputs": [],
   "source": [
    "c1"
   ]
  },
  {
   "cell_type": "code",
   "execution_count": null,
   "metadata": {},
   "outputs": [],
   "source": [
    "print(c1.value)\n",
    "print(data[:, c1.value])"
   ]
  },
  {
   "cell_type": "code",
   "execution_count": null,
   "metadata": {},
   "outputs": [],
   "source": [
    "c2"
   ]
  },
  {
   "cell_type": "code",
   "execution_count": null,
   "metadata": {},
   "outputs": [],
   "source": [
    "print(c2.value)\n",
    "print(data[:, c2.value])"
   ]
  },
  {
   "cell_type": "code",
   "execution_count": null,
   "metadata": {},
   "outputs": [],
   "source": [
    "def ex_3(x, y, colours):\n",
    "    \n",
    "    col_1_data = data[:, x]\n",
    "    col_2_data = data[:, y]\n",
    "    \n",
    "#     print(col_1_data)\n",
    "#     print(col_2_data)\n",
    "\n",
    "    plt.xlabel(info[x])\n",
    "    plt.ylabel(info[y])\n",
    "    \n",
    "    area = np.pi * 3\n",
    "    plt.scatter(col_1_data, col_2_data, s=area, color=colours, alpha=0.5)\n",
    "            \n",
    "    plt.show()"
   ]
  },
  {
   "cell_type": "markdown",
   "metadata": {},
   "source": [
    "### Apel widget"
   ]
  },
  {
   "cell_type": "code",
   "execution_count": null,
   "metadata": {},
   "outputs": [],
   "source": [
    "p = interact(\n",
    "    ex_3,\n",
    "    x=c1,\n",
    "    y=c2,\n",
    "    colours=colours\n",
    "    )"
   ]
  }
 ],
 "metadata": {
  "kernelspec": {
   "display_name": "Python 3",
   "language": "python",
   "name": "python3"
  },
  "language_info": {
   "codemirror_mode": {
    "name": "ipython",
    "version": 3
   },
   "file_extension": ".py",
   "mimetype": "text/x-python",
   "name": "python",
   "nbconvert_exporter": "python",
   "pygments_lexer": "ipython3",
   "version": "3.7.6"
  },
  "toc": {
   "base_numbering": 1,
   "nav_menu": {},
   "number_sections": true,
   "sideBar": true,
   "skip_h1_title": false,
   "title_cell": "Table of Contents",
   "title_sidebar": "Contents",
   "toc_cell": false,
   "toc_position": {},
   "toc_section_display": true,
   "toc_window_display": false
  },
  "varInspector": {
   "cols": {
    "lenName": 16,
    "lenType": 16,
    "lenVar": 40
   },
   "kernels_config": {
    "python": {
     "delete_cmd_postfix": "",
     "delete_cmd_prefix": "del ",
     "library": "var_list.py",
     "varRefreshCmd": "print(var_dic_list())"
    },
    "r": {
     "delete_cmd_postfix": ") ",
     "delete_cmd_prefix": "rm(",
     "library": "var_list.r",
     "varRefreshCmd": "cat(var_dic_list()) "
    }
   },
   "types_to_exclude": [
    "module",
    "function",
    "builtin_function_or_method",
    "instance",
    "_Feature"
   ],
   "window_display": false
  }
 },
 "nbformat": 4,
 "nbformat_minor": 2
}

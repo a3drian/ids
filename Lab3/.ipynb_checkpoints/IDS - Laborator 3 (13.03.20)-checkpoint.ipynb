{
 "cells": [
  {
   "cell_type": "markdown",
   "metadata": {},
   "source": [
    "# Laborator 2\n",
    "\n",
    "Saptamana 9-13 martie 2020\n",
    "\n",
    "Continut:\n",
    "1. Biblioteca ipywidgets\n",
    "1. Exercitii cu ipywidgets"
   ]
  },
  {
   "cell_type": "markdown",
   "metadata": {
    "ExecuteTime": {
     "end_time": "2020-02-29T08:17:01.791571Z",
     "start_time": "2020-02-29T08:17:01.774618Z"
    }
   },
   "source": [
    "## Folosire de controale grafice\n",
    "\n",
    "Notebook-urile - indiferent ca se ruleaza in Jupyter lab sau Jupyter notebook - se pot folosi pentru demo-uri interactive. O varianta este modificarea codului in timpul demo-ului si rularea manuala a celulelor afectate - nu intotdeauna rapid de facut. O alta varianta este folosirea de controale grafice care sa permita utilizatorului sa modifice optiuni, valori de parametri etc. \n",
    "\n",
    "[ipywidgets](https://ipywidgets.readthedocs.io/en/stable/) este o biblioteca de controale grafice care permit interactiune cu utilizatorul. Mai jos sunt cateva demo-uri de urmarit. \n",
    "\n",
    "* Demo 1: [![Alt text](https://img.youtube.com/vi/nRmkS_6ngCU/0.jpg)](https://www.youtube.com/watch?v=nRmkS_6ngCU)\n",
    "\n",
    "* Demo 2: [![Alt text](https://img.youtube.com/vi/j5d7vOQBttI/0.jpg)](https://www.youtube.com/watch?v=j5d7vOQBttI)\n",
    "\n",
    "* Demo 3: [![Alt text](https://img.youtube.com/vi/wxVx54ax47s/0.jpg)](https://www.youtube.com/watch?v=wxVx54ax47s)\n",
    "\n",
    "* Demo 4: [![Alt text](https://img.youtube.com/vi/i40d8-Hu4vM/0.jpg)](https://www.youtube.com/watch?v=i40d8-Hu4vM)"
   ]
  },
  {
   "cell_type": "markdown",
   "metadata": {},
   "source": [
    "### Exemple de utilizare\n",
    "\n",
    "Documentatia completa si exemple sunt date [aici](https://ipywidgets.readthedocs.io/en/stable/user_guide.html).\n",
    "\n",
    "Incarcarea pachetului de `ipywidgets` se face prin:"
   ]
  },
  {
   "cell_type": "code",
   "execution_count": null,
   "metadata": {
    "ExecuteTime": {
     "end_time": "2020-03-07T15:42:36.041139Z",
     "start_time": "2020-03-07T15:42:35.957790Z"
    }
   },
   "outputs": [],
   "source": [
    "import ipywidgets as widgets"
   ]
  },
  {
   "cell_type": "markdown",
   "metadata": {},
   "source": [
    "De regula, e nevoie si de alte pachete, de exemplu:"
   ]
  },
  {
   "cell_type": "code",
   "execution_count": null,
   "metadata": {
    "ExecuteTime": {
     "end_time": "2020-03-07T15:42:37.958268Z",
     "start_time": "2020-03-07T15:42:37.954278Z"
    }
   },
   "outputs": [],
   "source": [
    "from ipywidgets import interact, interactive, fixed, interact_manual"
   ]
  },
  {
   "cell_type": "markdown",
   "metadata": {},
   "source": [
    "Cel mai simplu control utilizabil este `interact`. El poate prelua ca prim parametru numele unei functii, iar al doilea parametru dicteaza forma controlului: slider, combo box, checkbox etc:"
   ]
  },
  {
   "cell_type": "code",
   "execution_count": null,
   "metadata": {
    "ExecuteTime": {
     "end_time": "2020-03-07T15:42:39.192524Z",
     "start_time": "2020-03-07T15:42:39.184545Z"
    }
   },
   "outputs": [],
   "source": [
    "def n_factorial(n:int) -> int:\n",
    "    \"\"\"Calculeaza n factorial\n",
    "    :param n: intreg >= 0 pt care se calculeaza factorialul\n",
    "    :return: valoarea lui n!\n",
    "    \"\"\"\n",
    "    p = 1\n",
    "    for i in range(1, n+1):\n",
    "        p *= i\n",
    "    return str(n) + \"!= \" + str(p)"
   ]
  },
  {
   "cell_type": "code",
   "execution_count": null,
   "metadata": {
    "ExecuteTime": {
     "end_time": "2020-03-07T15:42:44.090157Z",
     "start_time": "2020-03-07T15:42:44.043283Z"
    }
   },
   "outputs": [],
   "source": [
    "interact(n_factorial, n=100)"
   ]
  },
  {
   "cell_type": "markdown",
   "metadata": {},
   "source": [
    "Pentru limitarea domeniului in care $n$ poate sa ia valori se va folosi:"
   ]
  },
  {
   "cell_type": "code",
   "execution_count": null,
   "metadata": {
    "ExecuteTime": {
     "end_time": "2020-03-07T15:43:02.568660Z",
     "start_time": "2020-03-07T15:43:02.531755Z"
    }
   },
   "outputs": [],
   "source": [
    "interact(n_factorial, n=(0, 100));"
   ]
  },
  {
   "cell_type": "markdown",
   "metadata": {},
   "source": [
    "Pentru a evita actualizarea sacadata a valorilor afisate, se prefera inhibarea feedback-ului in timp real, precum in [Disabling continuous updates](https://ipywidgets.readthedocs.io/en/stable/examples/Using%20Interact.html#Disabling-continuous-updates). "
   ]
  },
  {
   "cell_type": "markdown",
   "metadata": {},
   "source": [
    "Pentru alte tipuri de controale folosind interact, se poate folosi:"
   ]
  },
  {
   "cell_type": "code",
   "execution_count": null,
   "metadata": {
    "ExecuteTime": {
     "end_time": "2020-03-07T15:43:15.233648Z",
     "start_time": "2020-03-07T15:43:15.184755Z"
    }
   },
   "outputs": [],
   "source": [
    "def g(x, y, z, t):\n",
    "    return (x, y, z, t)\n",
    "\n",
    "interact(g, x=True, y=(1.0, 10.0, 0.5), z='Un text', \n",
    "         t={'English':'Hello', 'Romanian':'Salut', 'Spanish':'Hola'})"
   ]
  },
  {
   "cell_type": "markdown",
   "metadata": {},
   "source": [
    "Exemplu: Sa se deseneze graficul functiei $f:[left, right] \\rightarrow \\mathbb{R}$, $f(x) = a\\cdot x^2 + b\\cdot x + c$, cu $a, b, c$ coeficienti reali.\n",
    "\n",
    "Rezolvare:"
   ]
  },
  {
   "cell_type": "code",
   "execution_count": null,
   "metadata": {
    "ExecuteTime": {
     "end_time": "2020-03-07T15:46:26.941354Z",
     "start_time": "2020-03-07T15:46:25.766878Z"
    }
   },
   "outputs": [],
   "source": [
    "# import de pachete numerice si grafice\n",
    "\n",
    "import matplotlib.pyplot as plt\n",
    "import numpy as np"
   ]
  },
  {
   "cell_type": "code",
   "execution_count": null,
   "metadata": {
    "ExecuteTime": {
     "end_time": "2020-03-07T15:55:14.067248Z",
     "start_time": "2020-03-07T15:55:13.603490Z"
    }
   },
   "outputs": [],
   "source": [
    "def f_square(a=10, b=20, c=-10,left=-10, right=20) -> None:\n",
    "    '''Afiseaza graficul unei functii de gradul al doilea de forma:\n",
    "    f(x)=a*x**2 + b*x + c. Valorile lui x sunt luate din intervalul \n",
    "    [left, right] prin discretizare.\n",
    "    :param a: coeficientul lui x**2\n",
    "    :param b: coeficientul lui x\n",
    "    :param c: termenul liber\n",
    "    :param left: capatul din stanga al intervalului peste care se face \n",
    "    reprezenatrea\n",
    "    :param right: capatul din dreapta al intervalului peste care se face \n",
    "    reprezenatrea\n",
    "    :return: None\n",
    "    '''\n",
    "    assert left < right\n",
    "    range_x = np.linspace(left, right, 100)\n",
    "    values_f = a * range_x ** 2 + b * range_x + c \n",
    "    plt.figure(figsize=(10, 8))\n",
    "    plt.xlabel('x')\n",
    "    plt.ylabel(str(a) + '$\\cdot x^2 + $' + str(b) + '$\\cdot x + $' + str(c))\n",
    "    plt.plot(range_x, values_f, color='red')\n",
    "    plt.grid(axis='both')\n",
    "    plt.axhline(y=0, color='k')\n",
    "    plt.axvline(x=0, color='k')\n",
    "    plt.show()\n",
    "    \n",
    "interact(f_square, a=(-100, 100.0), b=(-100, 100.0), c=(-100, 100.0), d=(-100, 100.0), e=(-100, 100.0));"
   ]
  },
  {
   "cell_type": "code",
   "execution_count": null,
   "metadata": {
    "ExecuteTime": {
     "end_time": "2020-03-07T15:55:21.534965Z",
     "start_time": "2020-03-07T15:55:21.265683Z"
    }
   },
   "outputs": [],
   "source": [
    "def sinusoid(f=10):\n",
    "    range_x = np.linspace(-5, 5, 100)\n",
    "    values_f = np.sin(2 * np.pi * f * range_x)\n",
    "    plt.xlabel('x')\n",
    "    plt.ylabel(f'$2 \\cdot \\pi \\cdot {f} \\cdot x$')\n",
    "    plt.grid(axis='both')\n",
    "    plt.axhline(y=0, color='k')\n",
    "    plt.axvline(x=0, color='k')\n",
    "    plt.plot(range_x, values_f)\n",
    "    \n",
    "interact(sinusoid, f = (1, 100.0, 0.5));"
   ]
  },
  {
   "cell_type": "code",
   "execution_count": null,
   "metadata": {
    "ExecuteTime": {
     "end_time": "2020-03-07T16:03:05.053521Z",
     "start_time": "2020-03-07T16:03:04.678526Z"
    }
   },
   "outputs": [],
   "source": [
    "def f(x):\n",
    "    \"\"\"calcul functie intr-un punct\"\"\"\n",
    "    return x ** 2 - 10 * x + 50\n",
    "\n",
    "def f_values(left=-10, right=10):\n",
    "    \"\"\"calcul functie pe interval\"\"\"\n",
    "    x = np.linspace(left, right, 100)\n",
    "    return x, f(x)\n",
    "\n",
    "def f_prime(x):\n",
    "    \"\"\"Calcul derivata f\n",
    "    :param x: punctul in care se calculeaza derivata\n",
    "    :return: f'(x)\n",
    "    \"\"\"\n",
    "    return 2 * x - 10\n",
    "\n",
    "def graph_f_and_derived(x, left=-30, right=30):\n",
    "    # calcul valoare functie f\n",
    "    x_range, fx = f_values(left, right)\n",
    "    \n",
    "    # intervalul pe care se reprezinta tangenta la grafic\n",
    "    x_segment = np.linspace(x-10, x+10, 100)\n",
    "    # panta tangentei la grafic este derivata functiei in pctul de tangenta\n",
    "    slope = f_prime(x)\n",
    "    \n",
    "    #calcul puncte de tangenta\n",
    "    y_segment = f(x) + slope * (x_segment - x)\n",
    "    \n",
    "    plt.figure(figsize=(20, 10))\n",
    "    plt.plot(x_range, fx, color='red')\n",
    "    plt.plot(x_segment, y_segment, color='blue')\n",
    "    \n",
    "# graf_f_and_derived(10, left=-30, right=30)\n",
    "\n",
    "interact(graph_f_and_derived, x = (-20, 20))"
   ]
  },
  {
   "cell_type": "markdown",
   "metadata": {},
   "source": [
    "## Exercitii `ipywidgets`:\n",
    "\n",
    "1. (la clasa) Consideram functia $f(x) = x^2$ si punctul $P=(5, 3)$. Folosind controale grafice ipywidgets, sa se modifice functia $f$ prin translatarea ei pe orizontala si pe verticala, a.i. minimul functiei sa sa afle in punctul $P$; a se vedea mai jos exemplu de translatie pe verticala. Se cere desenarea axelor Ox si Oy cu reprezentarea puntului $P$ printr-un dreptunghi, desenarea functiei $f$ folosind o curba de 50 de puncte. Se vor determina coeficientii necesari mutarii functiei si se vor defini controale pentru acestea. ![vertical translation](./images/vertical_translation.png)\n",
    "1. (3 puncte) Generati o lista de 20 de perechi de valori $\\{x_i, y_i\\}_{i=0,19}$ in intervalul [0, 10), afisati aceste valori pe un grafic, impreuna cu o dreapta definita de o functie liniara $y=a*x+b$. Intr-un alt plot afisati, ca histograma, distanta dintre un punct de coordonate $(x_i, y_i)$ si punctul de intersectie a verticalei duse prin $x_i$ cu dreapta data. Dreapta trebuie sa fie controlabila din widgets, prin cei doi coeficienti. Constatati modificarea histogramei in functie de pozitia dreptei si calculati suma: $\\sum_{i=0}^{19} (y_i - (a\\cdot x_i + b))^2$, adica suma patratelor lungimilor segmentelor verzi de mai jos.\n",
    "![linear regression](./images/linreg.png)\n",
    "*Indicatii:*\n",
    "    1. Pentru generare de valori distribuite uniform in intervalul [0, 1) puteti folosi functia [numy.random.uniform](https://docs.scipy.org/doc/numpy/reference/generated/numpy.random.uniform.html) iar vectorul obtinut sa il inmultiti cu 10; in felul acesta, numerele generate vor fi uniform distribuite in intervalul $[0, 10)$.\n",
    "    1. Puteti opta sa returnati cele 20 de puncte sub forma `vector_x`, `vector_y`.\n",
    "1. (5 puncte) Incarcati fisierul `data/carbon_nanotubes.csv` (adaptare dupa [Carbon Nanotubes Data Set](http://archive.ics.uci.edu/ml/datasets/Carbon+Nanotubes)). In functie de alegerile exprimate de un utilizator, afisati intr-un grafic 2D coloanele numerice alese (de exemplu, coloana 0 si coloana 2).\n",
    "*Indicatii/optiuni*:\n",
    "    1. Incarcarea de date se poate face cu numpy, functia [loadtxt](https://docs.scipy.org/doc/numpy/reference/generated/numpy.loadtxt.html). Specificati faptul ca se sare peste prima linie din fisier (header). Alternativ, puteti folosi [pandas.read_csv](https://pandas.pydata.org/pandas-docs/stable/reference/api/pandas.read_csv.html).\n",
    "    1. Numarul de coloane din setul de date se poate afla cu `data.shape[1]`.\n",
    "    1. Pentru cele doua alegeri puteti sa instantiati doua obiecte [Dropdown](https://ipywidgets.readthedocs.io/en/stable/examples/Widget%20List.html#Dropdown) sau [Select](https://ipywidgets.readthedocs.io/en/stable/examples/Widget%20List.html#Select).\n",
    "    1. Daca in variabila `data` sunt datele incarcate, selectarea coloanei `i` se face cu `data[:, i]`.\n",
    "1. (2 puncte) Urmariti prezentarile date la inceputul laboratorului. Faceti o lista cu ceea ce ati dori sa se detalieze in acest semestru la laboratorul de IDS, din materialul furnizat."
   ]
  },
  {
   "cell_type": "markdown",
   "metadata": {},
   "source": [
    "### Exercitiul 1"
   ]
  },
  {
   "cell_type": "markdown",
   "metadata": {},
   "source": [
    "1. (la clasa) Consideram functia $f(x) = x^2$ si punctul $P=(5, 3)$. Folosind controale grafice ipywidgets, sa se modifice functia $f$ prin translatarea ei pe orizontala si pe verticala, a.i. minimul functiei sa sa afle in punctul $P$; a se vedea mai jos exemplu de translatie pe verticala. Se cere desenarea axelor Ox si Oy cu reprezentarea puntului $P$ printr-un dreptunghi, desenarea functiei $f$ folosind o curba de 50 de puncte. Se vor determina coeficientii necesari mutarii functiei si se vor defini controale pentru acestea. ![vertical translation](./images/vertical_translation.png)"
   ]
  },
  {
   "cell_type": "code",
   "execution_count": null,
   "metadata": {},
   "outputs": [],
   "source": [
    "def plt_arrays(x, y, title=\"\", color=\"red\", linestyle=\"solid\", linewidth=2):\n",
    "    fig = plt.figure()\n",
    "    axes = fig.add_subplot(111)\n",
    "    axes.plot(x, y, color = color, linestyle = linestyle, linewidth = linewidth)\n",
    "    axes.set_title(title)\n",
    "    axes.grid()\n",
    "    plt.show()"
   ]
  },
  {
   "cell_type": "code",
   "execution_count": null,
   "metadata": {},
   "outputs": [],
   "source": [
    "def functie(a, b, c, **kwargs):\n",
    "    x = np.linspace(-10, 10, 20)\n",
    "    y = a*(x**2) + b*c + c\n",
    "    \n",
    "    title = \"$f(x) = (%s)x^{2} + (%s)x + (%s)$\" % (a,b,c)\n",
    "    title += \"\\n\"\n",
    "    \n",
    "    plt_arrays(x, y, title=title, **kwargs)"
   ]
  },
  {
   "cell_type": "code",
   "execution_count": null,
   "metadata": {},
   "outputs": [],
   "source": [
    "f = interact(\n",
    "    functie,\n",
    "    a=(-5.,10.),\n",
    "    b=(-5.,10.),\n",
    "    c=(-5.,10.),\n",
    "    )"
   ]
  },
  {
   "cell_type": "markdown",
   "metadata": {},
   "source": [
    "### Exercitiul 2"
   ]
  },
  {
   "cell_type": "markdown",
   "metadata": {},
   "source": [
    "1. (3 puncte) Generati o lista de 20 de perechi de valori $\\{x_i, y_i\\}_{i=0,19}$ in intervalul [0, 10), afisati aceste valori pe un grafic, impreuna cu o dreapta definita de o functie liniara $y=a*x+b$. Intr-un alt plot afisati, ca histograma, distanta dintre un punct de coordonate $(x_i, y_i)$ si punctul de intersectie a verticalei duse prin $x_i$ cu dreapta data. Dreapta trebuie sa fie controlabila din widgets, prin cei doi coeficienti. Constatati modificarea histogramei in functie de pozitia dreptei si calculati suma: $\\sum_{i=0}^{19} (y_i - (a\\cdot x_i + b))^2$, adica suma patratelor lungimilor segmentelor verzi de mai jos.\n",
    "![linear regression](./images/linreg.png)\n",
    "*Indicatii:*\n",
    "    1. Pentru generare de valori distribuite uniform in intervalul [0, 1) puteti folosi functia [numy.random.uniform](https://docs.scipy.org/doc/numpy/reference/generated/numpy.random.uniform.html) iar vectorul obtinut sa il inmultiti cu 10; in felul acesta, numerele generate vor fi uniform distribuite in intervalul $[0, 10)$.\n",
    "    1. Puteti opta sa returnati cele 20 de puncte sub forma `vector_x`, `vector_y`."
   ]
  },
  {
   "cell_type": "markdown",
   "metadata": {},
   "source": [
    "### Parametri"
   ]
  },
  {
   "cell_type": "code",
   "execution_count": null,
   "metadata": {},
   "outputs": [],
   "source": [
    "n = 5\n",
    "left = 0\n",
    "right = 10"
   ]
  },
  {
   "cell_type": "code",
   "execution_count": null,
   "metadata": {},
   "outputs": [],
   "source": [
    "def draw_random(left: int, right: int, n: int) -> np.array:\n",
    "    \n",
    "    \"\"\"\n",
    "    Functia \n",
    "    \"\"\"\n",
    "    \n",
    "#     r = np.random.uniform(low = left, high = right, size = n)\n",
    "    r = np.random.randint(low = left, high = right, size = n)\n",
    "    #print(\"r:\", r)\n",
    "    \n",
    "#     v = r * 10\n",
    "    #print(\"v:\", v)\n",
    "    \n",
    "    return r\n",
    "\n",
    "x = draw_random(left, right, n)\n",
    "print(\"x:\", x)\n",
    "y = draw_random(left, right, n)\n",
    "print(\"y:\", y)"
   ]
  },
  {
   "cell_type": "markdown",
   "metadata": {},
   "source": [
    "### Determinarea punctelor"
   ]
  },
  {
   "cell_type": "code",
   "execution_count": null,
   "metadata": {},
   "outputs": [],
   "source": [
    "points = zip(x, y)\n",
    "\n",
    "# print(points)\n",
    "# for p in points:\n",
    "#     print(p)\n",
    "    \n",
    "import matplotlib.pyplot as plt\n",
    "import numpy as np\n",
    "\n",
    "plt.scatter(x, y)\n",
    "plt.show()"
   ]
  },
  {
   "cell_type": "code",
   "execution_count": 59,
   "metadata": {},
   "outputs": [
    {
     "name": "stdout",
     "output_type": "stream",
     "text": [
      "P( 2 , 7 )\n",
      "P( 1 , 5 )\n",
      "P( 3 , 9 )\n",
      "P( 6 , 15 )\n",
      "P( 4 , 11 )\n"
     ]
    },
    {
     "data": {
      "image/png": "[encoded data removed]",
      "text/plain": [
       "<Figure size 720x720 with 1 Axes>"
      ]
     },
     "metadata": {
      "needs_background": "light"
     },
     "output_type": "display_data"
    }
   ],
   "source": [
    "import matplotlib.pyplot as plt\n",
    "import numpy as np\n",
    "\n",
    "import ipywidgets as widgets\n",
    "from ipywidgets import interact, interactive, fixed, interact_manual\n",
    "\n",
    "def f_line_graph(a: float, b: float, range_x, values_f):\n",
    "    \n",
    "    \"\"\"\n",
    "    \n",
    "    \"\"\"\n",
    "    \n",
    "    \n",
    "def distance_to_line(self, p1, p2):\n",
    "    x_diff = p2.x - p1.x\n",
    "    y_diff = p2.y - p1.y\n",
    "    num = abs(y_diff*self.x - x_diff*self.y + p2.x*p1.y - p2.y*p1.x)\n",
    "    den = math.sqrt(y_diff**2 + x_diff**2)\n",
    "    return num / den\n",
    "\n",
    "def distance(x1, y1, x2, y2):\n",
    "    x_diff = x2 - x1\n",
    "    y_diff = y2 - y1\n",
    "    d = np.sqrt(x_diff**2 + y_diff**2)\n",
    "    return d\n",
    "\n",
    "left=0\n",
    "right=20  \n",
    "#     0  1  2  3  4\n",
    "pX = [2, 1, 3, 6, 4]\n",
    "pY = [5, 4, 3, 1, 4]\n",
    "\n",
    "# def functie(a: float, b: float) -> float:\n",
    "#     y = a * x + b\n",
    "#     return y\n",
    "\n",
    "def functie(a, b, x):\n",
    "    y = a * x + b\n",
    "    return y\n",
    "\n",
    "# for i in range(len(x)):\n",
    "#     plt.axvline(x[i], ymax=y[i], color='b')\n",
    "\n",
    "\n",
    "    \n",
    "def f_line(a, b):\n",
    "\n",
    "    range_x = np.linspace(left, right, 2)\n",
    "    \n",
    "    values_f = a * range_x + b\n",
    "    \n",
    "    plt.figure(figsize=(10, 10))\n",
    "    plt.xlabel('x')\n",
    "    plt.ylabel('y')\n",
    "    \n",
    "    title = str(a) + '$\\cdot x + $' + str(b)\n",
    "    title += \"\\n\"\n",
    "    plt.title(title)\n",
    "    \n",
    "    plt.plot(range_x, values_f, color='blue')\n",
    "    plt.grid(axis='both')\n",
    "    \n",
    "    plt.axhline(y=0, color='k')\n",
    "    plt.axvline(x=0, color='k')\n",
    "    \n",
    "#     y = functie(2.5, 2.5)\n",
    "    for i in range(len(pX)):\n",
    "        z = functie(a, b, pX[i])\n",
    "#         z = functie(2, 3, pX[i])\n",
    "        print(\"P(\", pX[i], \",\", z, \")\")\n",
    "        plt.vlines(x=pX[i], ymin=pY[i], ymax=z)\n",
    "    \n",
    "#     j = 3\n",
    "#     z = functie(2, 3, pX[j])\n",
    "#     plt.vlines(x=pX[j], ymin=pY[j], ymax=z)\n",
    "#     x1 = 6\n",
    "#     y1 = 1\n",
    "#     x2 = 6 \n",
    "#     y2 = 15\n",
    "#     d = distance(x1, y1, x2, y2)\n",
    "#     print(d)\n",
    "    \n",
    "    plt.scatter(pX, pY)\n",
    "    \n",
    "    plt.show()\n",
    "\n",
    "f_line(2,3)\n",
    "\n",
    "# f = interact(\n",
    "#     f_line,\n",
    "#     a=2,\n",
    "#     b=3\n",
    "#     )\n",
    "\n",
    "# f = interact(\n",
    "#     f_line,\n",
    "#     a=(-7,5),\n",
    "#     b=(-7,5)\n",
    "#     )"
   ]
  },
  {
   "cell_type": "code",
   "execution_count": 138,
   "metadata": {},
   "outputs": [
    {
     "data": {
      "application/vnd.jupyter.widget-view+json": {
       "model_id": "d6714ecb45a147688a3ff42e30c4f0f5",
       "version_major": 2,
       "version_minor": 0
      },
      "text/plain": [
       "interactive(children=(IntSlider(value=-1, description='a', max=5, min=-7), IntSlider(value=-1, description='b'…"
      ]
     },
     "metadata": {},
     "output_type": "display_data"
    }
   ],
   "source": [
    "pX = [2, 1, 3, 6, 4]\n",
    "pY = [5, 4, 3, 1, 4]\n",
    "\n",
    "points = zip(pX, pY)\n",
    "\n",
    "def distribution():\n",
    "    a = [14, 10, 7, 8, 4]\n",
    "    return a\n",
    "\n",
    "def functie(a, b, x):\n",
    "    y = a * x + b\n",
    "    return y\n",
    "\n",
    "# def distance(points: zip, intersections: zip):\n",
    "def distance(pX, pY, zX, zY):\n",
    "    \n",
    "    d = []\n",
    "    \n",
    "    for i in range(len(pX)):\n",
    "        \n",
    "        x1 = pX[i]\n",
    "        y1 = pY[i]\n",
    "        \n",
    "        x2 = zX[i]\n",
    "        y2 = zY[i]\n",
    "        \n",
    "        x_diff = x2 - x1\n",
    "        y_diff = y2 - y1\n",
    "        \n",
    "        d.append(np.sqrt(x_diff**2 + y_diff**2))\n",
    "    \n",
    "    print(\"d:\")\n",
    "    for i in d:\n",
    "        print(i)\n",
    "    \n",
    "    return d\n",
    "\n",
    "def find_intersection(pX, pY, a, b):\n",
    "    \n",
    "    \"\"\"\n",
    "    Functia returneaza punctele de intersectie cu dreapta plecand din cele 20 de puncte random.\n",
    "    \"\"\"\n",
    "    \n",
    "    zX = []\n",
    "    zY = []\n",
    "    for i in range(len(pX)):\n",
    "        y = functie(a, b, pX[i])\n",
    "        func.vlines(x = pX[i], ymin = pY[i], ymax = y)\n",
    "        \n",
    "        zX.append(pX[i])\n",
    "        zY.append(y)\n",
    "        \n",
    "    print(\"zX:\", zX)\n",
    "    print(\"zY:\", zY)\n",
    "        \n",
    "    return zX, zY\n",
    "#     return zip(zX, zY)\n",
    "\n",
    "def q_6(a, b):\n",
    "    \n",
    "    range_x = np.linspace(left, right, 2)\n",
    "    \n",
    "    values_f = a * range_x + b\n",
    "    \n",
    "    fig, (func, hist) = plt.subplots(1, 2, sharex=False, sharey=False, figsize=(10, 5))\n",
    "    kwargs = dict(rwidth=0.7, density=True, alpha=0.75, ec='k', linewidth=1)\n",
    "\n",
    "    func.set_xlabel('x')\n",
    "    func.set_ylabel('y')\n",
    "    \n",
    "    title = str(a) + '$\\cdot x + $' + str(b)\n",
    "    title += \"\\n\"\n",
    "    fig.suptitle(title)\n",
    "    \n",
    "    func.plot(range_x, values_f, color='blue')\n",
    "    func.grid(axis='both')\n",
    "    \n",
    "    func.axhline(y=0, color='k')\n",
    "    func.axvline(x=0, color='k')\n",
    "    \n",
    "#     for i in range(len(pX)):\n",
    "#         z = functie(a, b, pX[i])\n",
    "#         func.vlines(x=pX[i], ymin=pY[i], ymax=z)\n",
    "\n",
    "    zX, zY = find_intersection(pX, pY, a, b)\n",
    "    for i in range(len(pX)):\n",
    "        func.vlines(x=pX[i], ymin=pY[i], ymax=zY[i])\n",
    "        \n",
    "    d = distance(pX, pY, zX, zY)\n",
    "    print(d)\n",
    "    print(np.mean(d))\n",
    "    \n",
    "    for p in points:\n",
    "        print(p[0], \"\", p[1])\n",
    "    \n",
    "    func.scatter(pX, pY)\n",
    "    \n",
    "    hist.set_xlabel('histogram')\n",
    "    hist.set_ylabel('difference')\n",
    "    hist.hist(d, int(np.average(d)), **kwargs, facecolor='teal')\n",
    "\n",
    "    plt.show()\n",
    "    \n",
    "# q_6(2, 3)\n",
    "\n",
    "f = interact(\n",
    "    q_6,\n",
    "    a=(-7,5),\n",
    "    b=(-7,5)\n",
    "    )"
   ]
  },
  {
   "cell_type": "code",
   "execution_count": 40,
   "metadata": {},
   "outputs": [
    {
     "data": {
      "image/png": "[encoded data removed]",
      "text/plain": [
       "<Figure size 432x288 with 1 Axes>"
      ]
     },
     "metadata": {
      "needs_background": "light"
     },
     "output_type": "display_data"
    }
   ],
   "source": [
    "import numpy as np\n",
    "import matplotlib.pyplot as plt\n",
    "\n",
    "x = np.arange(0, 1000)\n",
    "f = np.arange(0, 1000)\n",
    "g = np.sin(np.arange(0, 10, 0.01) * 2) * 1000\n",
    "\n",
    "# print(\"x:\", x)\n",
    "# print(\"f:\", x)\n",
    "# print(\"g:\", x)\n",
    "\n",
    "plt.plot(x, f, '-')\n",
    "plt.plot(x, g, '-')\n",
    "\n",
    "idx = np.argwhere(np.diff(np.sign(f - g))).flatten()\n",
    "\n",
    "# First it calculates f - g and the corresponding signs using np.sign. \n",
    "# Applying np.diff reveals all the positions, where the sign changes (e.g. the lines cross).\n",
    "# Using np.argwhere gives us the exact indices.\n",
    "\n",
    "plt.plot(x[idx], f[idx], 'ro')\n",
    "plt.show()"
   ]
  },
  {
   "cell_type": "code",
   "execution_count": 24,
   "metadata": {},
   "outputs": [
    {
     "data": {
      "image/png": "[encoded data removed]",
      "text/plain": [
       "<Figure size 432x288 with 1 Axes>"
      ]
     },
     "metadata": {
      "needs_background": "light"
     },
     "output_type": "display_data"
    }
   ],
   "source": [
    "values = [0.1, 0.2, 0.3, 0.4, 0.5, 0.6]\n",
    "times = [.5, .6, .7, .8, .9, .95]\n",
    "\n",
    "for i in range(len(times)):\n",
    "    plt.axvline(values[i], ymax=times[i], color='b')\n",
    "\n",
    "plt.show()"
   ]
  },
  {
   "cell_type": "code",
   "execution_count": null,
   "metadata": {},
   "outputs": [],
   "source": [
    "pX = [2, 1, 3, 6, 4]\n",
    "pY = [5, 4, 3, 1, 4]\n",
    "\n",
    "points = zip(pX, pY)\n",
    "\n",
    "def distribution():\n",
    "    a = [14, 10, 7, 8, 4]\n",
    "    return a\n",
    "\n",
    "def functie(a, b, x):\n",
    "    y = a * x + b\n",
    "    return y\n",
    "\n",
    "def find_intersection(pX, a, b):\n",
    "    \n",
    "    \"\"\"\n",
    "    Functia returneaza punctele de intersectie cu dreapta plecand din cele 20 de puncte random.\n",
    "    \"\"\"\n",
    "    \n",
    "    zX = []\n",
    "    zY = []\n",
    "    for i in range(len(pX)):\n",
    "        y = functie(a, b, pX[i])\n",
    "        func.vlines(x = pX[i], ymin = pY[i], ymax = y)\n",
    "        \n",
    "        zX.append(pX[i])\n",
    "        zY.append(y)\n",
    "        \n",
    "    print(\"zX:\", zX)\n",
    "    print(\"zY:\", zY)\n",
    "        \n",
    "    return zX, zY\n",
    "#     return zip(zX, zY)\n",
    "\n",
    "def q_6(a, b):\n",
    "    \n",
    "    range_x = np.linspace(left, right, 2)\n",
    "    \n",
    "    values_f = a * range_x + b\n",
    "    \n",
    "    fig, (func, hist) = plt.subplots(1, 2, sharex=False, sharey=False, figsize=(10, 5))\n",
    "    kwargs = dict(rwidth=0.7, density=True, alpha=0.75, ec='k', linewidth=1)\n",
    "\n",
    "    func.set_xlabel('x')\n",
    "    func.set_ylabel('y')\n",
    "    \n",
    "    title = str(a) + '$\\cdot x + $' + str(b)\n",
    "    title += \"\\n\"\n",
    "    fig.suptitle(title)\n",
    "    \n",
    "    func.plot(range_x, values_f, color='blue')\n",
    "    func.grid(axis='both')\n",
    "    \n",
    "    func.axhline(y=0, color='k')\n",
    "    func.axvline(x=0, color='k')\n",
    "    \n",
    "#     for i in range(len(pX)):\n",
    "#         z = functie(a, b, pX[i])\n",
    "#         func.vlines(x=pX[i], ymin=pY[i], ymax=z)\n",
    "\n",
    "    zX, zY = find_intersection(pX, a, b)\n",
    "    for i in range(len(pX)):\n",
    "        func.vlines(x=pX[i], ymin=pY[i], ymax=zY[i])\n",
    "        \n",
    "    z = find_intersection(pX, a, b)\n",
    "    for p in z:\n",
    "        print(p[0], \"\", p[1])\n",
    "        \n",
    "    for p in points:\n",
    "        print(p[0], \"\", p[1])\n",
    "    \n",
    "    func.scatter(pX, pY)\n",
    "    \n",
    "    hist.set_xlabel('histogram')\n",
    "    hist.set_ylabel('difference')\n",
    "    hist.hist(distribution(), 5, **kwargs, facecolor='teal')\n",
    "\n",
    "    plt.show()\n",
    "    \n",
    "# q_6(2, 3)\n",
    "\n",
    "f = interact(\n",
    "    q_6,\n",
    "    a=(-7,5),\n",
    "    b=(-7,5)\n",
    "    )"
   ]
  }
 ],
 "metadata": {
  "kernelspec": {
   "display_name": "Python 3",
   "language": "python",
   "name": "python3"
  },
  "language_info": {
   "codemirror_mode": {
    "name": "ipython",
    "version": 3
   },
   "file_extension": ".py",
   "mimetype": "text/x-python",
   "name": "python",
   "nbconvert_exporter": "python",
   "pygments_lexer": "ipython3",
   "version": "3.7.6"
  },
  "toc": {
   "base_numbering": 1,
   "nav_menu": {},
   "number_sections": true,
   "sideBar": true,
   "skip_h1_title": false,
   "title_cell": "Table of Contents",
   "title_sidebar": "Contents",
   "toc_cell": false,
   "toc_position": {},
   "toc_section_display": true,
   "toc_window_display": false
  },
  "varInspector": {
   "cols": {
    "lenName": 16,
    "lenType": 16,
    "lenVar": 40
   },
   "kernels_config": {
    "python": {
     "delete_cmd_postfix": "",
     "delete_cmd_prefix": "del ",
     "library": "var_list.py",
     "varRefreshCmd": "print(var_dic_list())"
    },
    "r": {
     "delete_cmd_postfix": ") ",
     "delete_cmd_prefix": "rm(",
     "library": "var_list.r",
     "varRefreshCmd": "cat(var_dic_list()) "
    }
   },
   "types_to_exclude": [
    "module",
    "function",
    "builtin_function_or_method",
    "instance",
    "_Feature"
   ],
   "window_display": false
  }
 },
 "nbformat": 4,
 "nbformat_minor": 2
}

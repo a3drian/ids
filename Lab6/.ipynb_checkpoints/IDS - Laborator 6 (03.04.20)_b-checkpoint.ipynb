{
 "cells": [
  {
   "cell_type": "markdown",
   "metadata": {},
   "source": [
    "# Laborator 6\n",
    "\n",
    "Versiunea 2020-04-01"
   ]
  },
  {
   "cell_type": "markdown",
   "metadata": {},
   "source": [
    "## Modele de clasificare\n",
    "\n",
    "Folositi 4 seturi de date pentru probleme de clasificare, plecand de la repository-urile specificate in Cursul 5; de exemplu, [ics.uci.edu](http://archive.ics.uci.edu/ml/datasets.php?format=mat&task=cla&att=&area=&numAtt=&numIns=&type=mvar&sort=nameUp&view=table). Cel putin doua seturi de date sa fie cu valori lipsa. \n",
    "\n",
    "\n",
    "1. (20 puncte) Aplicati o metoda de missing value imputation, unde este cazul; justificati si documentati metoda folosita.\n",
    "1. (numar de modele * numar de seturi de date \\* 1 punct = 20 de puncte) Pentru fiecare set de date aplicati 5 modele de clasificare din scikit learn. Pentru fiecare raportati: acuratete, scorul F1 - a se vedea [sklearn.metrics](http://scikit-learn.org/stable/modules/classes.html#module-sklearn.metrics) - folosind 5 fold cross validation. Raportati mediile rezultatelor atat pentru fold-urile de antrenare, cat si pentru cele de testare. Rularile se vor face cu valori fixate ale hiperparametrilor. \n",
    "1. (numar modele * 4 puncte = 20 puncte) Documentati in jupyter notebook fiecare din modelele folosite, in limba romana. Daca acelasi algoritm e folosit pentru mai multe seturi de date, puteti face o sectiune separata cu documentarea algoritmilor + trimitere la algoritm. \n",
    "1. (numar de modele * numar de seturi de date * 1 punct = 20 de puncte) Raportati performanta fiecarui model, folosind 5 fold cross validation. Pentru fiecare din cele 5 rulari, cautati hiperparametrii optimi folosind 4-fold cross validation. Performanta modelului va fi raportata ca medie a celor  5 rulari. \n",
    "    *Observatie:* la fiecare din cele 5 rulari, hiperparametrii optimi pot diferi, din cauza datelor utilizate pentru antrenare/validare. \n",
    "\n",
    "Se acorda 20 de puncte din oficiu. "
   ]
  },
  {
   "cell_type": "markdown",
   "metadata": {},
   "source": [
    "Exemple de modele de clasificare:\n",
    "1. [Multi-layer Perceptron classifier](https://scikit-learn.org/stable/modules/generated/sklearn.neural_network.MLPClassifier.html#sklearn.neural_network.MLPClassifier)\n",
    "1. [KNN](https://scikit-learn.org/stable/modules/generated/sklearn.neighbors.KNeighborsClassifier.html#sklearn.neighbors.KNeighborsClassifier)\n",
    "1. [SVM](https://scikit-learn.org/stable/modules/generated/sklearn.svm.SVC.html#sklearn.svm.SVC)\n",
    "1. [Gaussian processes](https://scikit-learn.org/stable/modules/generated/sklearn.gaussian_process.GaussianProcessClassifier.html#sklearn.gaussian_process.GaussianProcessClassifier)\n",
    "1. [RBF](https://scikit-learn.org/stable/modules/generated/sklearn.gaussian_process.kernels.RBF.html#sklearn.gaussian_process.kernels.RBF)\n",
    "1. [Decision tree](https://scikit-learn.org/stable/modules/generated/sklearn.tree.DecisionTreeClassifier.html#sklearn.tree.DecisionTreeClassifier)\n",
    "1. [Random forest](https://scikit-learn.org/stable/modules/generated/sklearn.ensemble.RandomForestClassifier.html#sklearn.ensemble.RandomForestClassifier)\n",
    "1. [Gaussian Naive bayes](https://scikit-learn.org/stable/modules/generated/sklearn.naive_bayes.GaussianNB.html#sklearn.naive_bayes.GaussianNB) "
   ]
  },
  {
   "cell_type": "code",
   "execution_count": 15,
   "metadata": {},
   "outputs": [
    {
     "name": "stdout",
     "output_type": "stream",
     "text": [
      "numpy: 1.18.1\n",
      "pandas: 1.0.1\n"
     ]
    }
   ],
   "source": [
    "import matplotlib.pyplot as plt\n",
    "import numpy as np\n",
    "import pandas as pd\n",
    "\n",
    "print ('numpy:', np.__version__)\n",
    "print ('pandas:', pd.__version__)\n",
    "\n",
    "import sklearn\n",
    "from sklearn.metrics import accuracy_score\n",
    "\n",
    "from sklearn.neighbors import KNeighborsClassifier\n",
    "from sklearn.model_selection import train_test_split, GridSearchCV, RandomizedSearchCV\n",
    "from sklearn.gaussian_process.kernels import RBF, ConstantKernel as C\n",
    "from sklearn import metrics\n",
    "from sklearn.model_selection import cross_val_score\n",
    "from sklearn.neural_network import MLPClassifier\n",
    "from sklearn.linear_model import LogisticRegression\n",
    "from sklearn.svm import SVC\n",
    "from sklearn.gaussian_process import GaussianProcessClassifier"
   ]
  },
  {
   "cell_type": "markdown",
   "metadata": {},
   "source": [
    "### 1. Missing value imputation"
   ]
  },
  {
   "cell_type": "markdown",
   "metadata": {},
   "source": [
    "### 2. Accuracy and F1 score"
   ]
  },
  {
   "cell_type": "markdown",
   "metadata": {},
   "source": [
    "### Wine Data Set\n",
    "#### (http://archive.ics.uci.edu/ml/datasets/Wine)"
   ]
  },
  {
   "cell_type": "markdown",
   "metadata": {},
   "source": [
    "### KNN"
   ]
  },
  {
   "cell_type": "markdown",
   "metadata": {},
   "source": [
    "#### Load data"
   ]
  },
  {
   "cell_type": "code",
   "execution_count": 2,
   "metadata": {},
   "outputs": [
    {
     "data": {
      "text/html": [
       "<div>\n",
       "<style scoped>\n",
       "    .dataframe tbody tr th:only-of-type {\n",
       "        vertical-align: middle;\n",
       "    }\n",
       "\n",
       "    .dataframe tbody tr th {\n",
       "        vertical-align: top;\n",
       "    }\n",
       "\n",
       "    .dataframe thead th {\n",
       "        text-align: right;\n",
       "    }\n",
       "</style>\n",
       "<table border=\"1\" class=\"dataframe\">\n",
       "  <thead>\n",
       "    <tr style=\"text-align: right;\">\n",
       "      <th></th>\n",
       "      <th>0</th>\n",
       "      <th>1</th>\n",
       "      <th>2</th>\n",
       "      <th>3</th>\n",
       "      <th>4</th>\n",
       "      <th>5</th>\n",
       "      <th>6</th>\n",
       "      <th>7</th>\n",
       "      <th>8</th>\n",
       "      <th>9</th>\n",
       "      <th>10</th>\n",
       "      <th>11</th>\n",
       "      <th>12</th>\n",
       "      <th>13</th>\n",
       "    </tr>\n",
       "  </thead>\n",
       "  <tbody>\n",
       "    <tr>\n",
       "      <th>0</th>\n",
       "      <td>1</td>\n",
       "      <td>14.23</td>\n",
       "      <td>1.71</td>\n",
       "      <td>2.43</td>\n",
       "      <td>15.6</td>\n",
       "      <td>127</td>\n",
       "      <td>2.80</td>\n",
       "      <td>3.06</td>\n",
       "      <td>0.28</td>\n",
       "      <td>2.29</td>\n",
       "      <td>5.64</td>\n",
       "      <td>1.04</td>\n",
       "      <td>3.92</td>\n",
       "      <td>1065</td>\n",
       "    </tr>\n",
       "    <tr>\n",
       "      <th>1</th>\n",
       "      <td>1</td>\n",
       "      <td>13.20</td>\n",
       "      <td>1.78</td>\n",
       "      <td>2.14</td>\n",
       "      <td>11.2</td>\n",
       "      <td>100</td>\n",
       "      <td>2.65</td>\n",
       "      <td>2.76</td>\n",
       "      <td>0.26</td>\n",
       "      <td>1.28</td>\n",
       "      <td>4.38</td>\n",
       "      <td>1.05</td>\n",
       "      <td>3.40</td>\n",
       "      <td>1050</td>\n",
       "    </tr>\n",
       "    <tr>\n",
       "      <th>2</th>\n",
       "      <td>1</td>\n",
       "      <td>13.16</td>\n",
       "      <td>2.36</td>\n",
       "      <td>2.67</td>\n",
       "      <td>18.6</td>\n",
       "      <td>101</td>\n",
       "      <td>2.80</td>\n",
       "      <td>3.24</td>\n",
       "      <td>0.30</td>\n",
       "      <td>2.81</td>\n",
       "      <td>5.68</td>\n",
       "      <td>1.03</td>\n",
       "      <td>3.17</td>\n",
       "      <td>1185</td>\n",
       "    </tr>\n",
       "    <tr>\n",
       "      <th>3</th>\n",
       "      <td>1</td>\n",
       "      <td>14.37</td>\n",
       "      <td>1.95</td>\n",
       "      <td>2.50</td>\n",
       "      <td>16.8</td>\n",
       "      <td>113</td>\n",
       "      <td>3.85</td>\n",
       "      <td>3.49</td>\n",
       "      <td>0.24</td>\n",
       "      <td>2.18</td>\n",
       "      <td>7.80</td>\n",
       "      <td>0.86</td>\n",
       "      <td>3.45</td>\n",
       "      <td>1480</td>\n",
       "    </tr>\n",
       "    <tr>\n",
       "      <th>4</th>\n",
       "      <td>1</td>\n",
       "      <td>13.24</td>\n",
       "      <td>2.59</td>\n",
       "      <td>2.87</td>\n",
       "      <td>21.0</td>\n",
       "      <td>118</td>\n",
       "      <td>2.80</td>\n",
       "      <td>2.69</td>\n",
       "      <td>0.39</td>\n",
       "      <td>1.82</td>\n",
       "      <td>4.32</td>\n",
       "      <td>1.04</td>\n",
       "      <td>2.93</td>\n",
       "      <td>735</td>\n",
       "    </tr>\n",
       "  </tbody>\n",
       "</table>\n",
       "</div>"
      ],
      "text/plain": [
       "   0      1     2     3     4    5     6     7     8     9     10    11    12  \\\n",
       "0   1  14.23  1.71  2.43  15.6  127  2.80  3.06  0.28  2.29  5.64  1.04  3.92   \n",
       "1   1  13.20  1.78  2.14  11.2  100  2.65  2.76  0.26  1.28  4.38  1.05  3.40   \n",
       "2   1  13.16  2.36  2.67  18.6  101  2.80  3.24  0.30  2.81  5.68  1.03  3.17   \n",
       "3   1  14.37  1.95  2.50  16.8  113  3.85  3.49  0.24  2.18  7.80  0.86  3.45   \n",
       "4   1  13.24  2.59  2.87  21.0  118  2.80  2.69  0.39  1.82  4.32  1.04  2.93   \n",
       "\n",
       "     13  \n",
       "0  1065  \n",
       "1  1050  \n",
       "2  1185  \n",
       "3  1480  \n",
       "4   735  "
      ]
     },
     "execution_count": 2,
     "metadata": {},
     "output_type": "execute_result"
    }
   ],
   "source": [
    "wine_data = pd.read_csv('D:\\Projects\\Facultate\\II\\II_Sem_2_10_REPOS\\IDS\\Lab6\\Data\\Wine\\wine.data', header=None)\n",
    "wine_data.head()"
   ]
  },
  {
   "cell_type": "markdown",
   "metadata": {},
   "source": [
    "#### Interpret data"
   ]
  },
  {
   "cell_type": "code",
   "execution_count": 3,
   "metadata": {},
   "outputs": [],
   "source": [
    "X_Wine = wine_data.values[:, 1:]\n",
    "y_Wine = wine_data.values[:, 0] #prima coloana reprezinta ground truth"
   ]
  },
  {
   "cell_type": "markdown",
   "metadata": {},
   "source": [
    "#### Split data"
   ]
  },
  {
   "cell_type": "code",
   "execution_count": 4,
   "metadata": {},
   "outputs": [],
   "source": [
    "test_size = 1/3\n",
    "X_Wine_train, X_Wine_test, y_Wine_train, y_Wine_test = train_test_split(X_Wine, y_Wine, test_size=test_size, random_state=5)"
   ]
  },
  {
   "cell_type": "markdown",
   "metadata": {},
   "source": [
    "#### Fit data"
   ]
  },
  {
   "cell_type": "code",
   "execution_count": 5,
   "metadata": {},
   "outputs": [
    {
     "data": {
      "text/plain": [
       "KNeighborsClassifier(algorithm='auto', leaf_size=30, metric='minkowski',\n",
       "                     metric_params=None, n_jobs=None, n_neighbors=5, p=2,\n",
       "                     weights='uniform')"
      ]
     },
     "execution_count": 5,
     "metadata": {},
     "output_type": "execute_result"
    }
   ],
   "source": [
    "model_KNN_Wine = KNeighborsClassifier(n_neighbors=5)\n",
    "model_KNN_Wine.fit(X_Wine_train, y_Wine_train)"
   ]
  },
  {
   "cell_type": "markdown",
   "metadata": {},
   "source": [
    "#### Accuracy"
   ]
  },
  {
   "cell_type": "code",
   "execution_count": 6,
   "metadata": {},
   "outputs": [
    {
     "name": "stdout",
     "output_type": "stream",
     "text": [
      "Accuracy (KNN): 0.7333333333333333\n"
     ]
    }
   ],
   "source": [
    "y_Wine_h = model_KNN_Wine.predict(X_Wine_test)\n",
    "accuracy_KNN_Wine = accuracy_score(y_Wine_test, y_Wine_h)\n",
    "\n",
    "print(f'Accuracy (KNN): {accuracy_KNN_Wine}')"
   ]
  },
  {
   "cell_type": "markdown",
   "metadata": {},
   "source": [
    "#### Accuracy and F1 score using 5-fold cross validation"
   ]
  },
  {
   "cell_type": "code",
   "execution_count": 7,
   "metadata": {},
   "outputs": [],
   "source": [
    "cv = 5"
   ]
  },
  {
   "cell_type": "code",
   "execution_count": 8,
   "metadata": {},
   "outputs": [
    {
     "name": "stdout",
     "output_type": "stream",
     "text": [
      "Accuracy (KNN, 5-fold cv):\n",
      " [0.72222222 0.66666667 0.63888889 0.65714286 0.77142857]\n",
      "Accuracy (KNN, 5-fold cv, mean): 0.6912698412698413\n"
     ]
    }
   ],
   "source": [
    "#Accuracy (5-fold)\n",
    "score_KNN_Wine_accuracy = cross_val_score(model_KNN_Wine, X_Wine, y_Wine, cv=cv, scoring='accuracy')\n",
    "print(f'Accuracy (KNN, 5-fold cv):\\n {score_KNN_Wine_accuracy}')\n",
    "mean_score_KNN_Wine_accuracy = score_KNN_Wine_accuracy.mean()\n",
    "print(f'Accuracy (KNN, 5-fold cv, mean): {mean_score_KNN_Wine_accuracy}')"
   ]
  },
  {
   "cell_type": "code",
   "execution_count": 9,
   "metadata": {},
   "outputs": [
    {
     "name": "stdout",
     "output_type": "stream",
     "text": [
      "F1 score (KNN, 5-fold cv):\n",
      " 0.7311348929815829\n"
     ]
    }
   ],
   "source": [
    "#F1 score (5-fold)\n",
    "score_KNN_Wine_f1 = metrics.f1_score(y_Wine_test, y_Wine_h, average='weighted')\n",
    "print(f'F1 score (KNN, 5-fold cv):\\n {score_KNN_Wine_f1}')"
   ]
  },
  {
   "cell_type": "code",
   "execution_count": 10,
   "metadata": {},
   "outputs": [
    {
     "name": "stdout",
     "output_type": "stream",
     "text": [
      "Accuracy (KNN, 5-fold cv, train):\n",
      " [0.41666667 0.66666667 0.625      0.65217391 0.73913043]\n",
      "Accuracy (KNN, 5-fold cv, train, mean): 0.619927536231884\n",
      "\n",
      "Accuracy (KNN, 5-fold cv, test):\n",
      " [0.66666667 0.66666667 0.58333333 0.83333333 0.75      ]\n",
      "Accuracy (KNN, 5-fold cv, test, mean): 0.7\n"
     ]
    }
   ],
   "source": [
    "#Accuracy (5-fold) for training and test set\n",
    "score_KNN_Wine_accuracy_train = cross_val_score(model_KNN_Wine, X_Wine_train, y_Wine_train, cv=cv, scoring='accuracy')\n",
    "print(f'Accuracy (KNN, 5-fold cv, train):\\n {score_KNN_Wine_accuracy_train}')\n",
    "\n",
    "mean_score_KNN_Wine_accuracy_train = score_KNN_Wine_accuracy_train.mean()\n",
    "print(f'Accuracy (KNN, 5-fold cv, train, mean): {mean_score_KNN_Wine_accuracy_train}')\n",
    "\n",
    "print()\n",
    "\n",
    "score_KNN_Wine_accuracy_test = cross_val_score(model_KNN_Wine, X_Wine_test, y_Wine_test, cv=cv, scoring='accuracy')\n",
    "print(f'Accuracy (KNN, 5-fold cv, test):\\n {score_KNN_Wine_accuracy_test}')\n",
    "\n",
    "mean_score_KNN_Wine_accuracy_test = score_KNN_Wine_accuracy_test.mean()\n",
    "print(f'Accuracy (KNN, 5-fold cv, test, mean): {mean_score_KNN_Wine_accuracy_test}')"
   ]
  },
  {
   "cell_type": "code",
   "execution_count": 11,
   "metadata": {},
   "outputs": [
    {
     "name": "stdout",
     "output_type": "stream",
     "text": [
      "F1 score (KNN, 5-fold cv, train):\n",
      " [0.45418895 0.60966184 0.60277778 0.6234051  0.71909888]\n",
      "F1 score (KNN, 5-fold cv, train, mean): 0.601826509814799\n",
      "\n",
      "F1 score (KNN, 5-fold cv, test):\n",
      " [0.6030303  0.62575758 0.55988456 0.76666667 0.6962963 ]\n",
      "F1 score (KNN, 5-fold cv, test, mean): 0.6503270803270802\n"
     ]
    }
   ],
   "source": [
    "#F1 score (5-fold) for training and test set\n",
    "score_KNN_Wine_f1_train = cross_val_score(model_KNN_Wine, X_Wine_train, y_Wine_train, cv=cv, scoring='f1_macro')\n",
    "print(f'F1 score (KNN, 5-fold cv, train):\\n {score_KNN_Wine_f1_train}')\n",
    "\n",
    "mean_score_KNN_Wine_f1_train = score_KNN_Wine_f1_train.mean()\n",
    "print(f'F1 score (KNN, 5-fold cv, train, mean): {mean_score_KNN_Wine_f1_train}')\n",
    "\n",
    "print()\n",
    "\n",
    "score_KNN_Wine_f1_test = cross_val_score(model_KNN_Wine, X_Wine_test, y_Wine_test, cv=cv, scoring='f1_macro')\n",
    "print(f'F1 score (KNN, 5-fold cv, test):\\n {score_KNN_Wine_f1_test}')\n",
    "\n",
    "mean_score_KNN_Wine_f1_test = score_KNN_Wine_f1_test.mean()\n",
    "print(f'F1 score (KNN, 5-fold cv, test, mean): {mean_score_KNN_Wine_f1_test}')"
   ]
  },
  {
   "cell_type": "markdown",
   "metadata": {},
   "source": [
    "#### Hyperparameter search"
   ]
  },
  {
   "cell_type": "code",
   "execution_count": 12,
   "metadata": {},
   "outputs": [],
   "source": [
    "cv = 5\n",
    "cv_4 = 4\n",
    "scoring_acc = 'accuracy'\n",
    "scoring_f1 = 'f1_score'"
   ]
  },
  {
   "cell_type": "code",
   "execution_count": 13,
   "metadata": {},
   "outputs": [],
   "source": [
    "parameter_grid = {'n_neighbors': list(range(1, 10)), 'p': [1, 2, 3, 4.7]}\n",
    "\n",
    "def hyper_KNN(X_train, y_train, X_test, y_test, X, y) -> None:\n",
    "    \n",
    "    \"\"\"\n",
    "    :param X: matricea de intrare\n",
    "    :param y: ground truth\n",
    "    \"\"\"\n",
    "    \n",
    "    #initializam modelul de clasificare\n",
    "    model = KNeighborsClassifier()\n",
    "    \n",
    "    #initializam GridSearchCV pentru a putea face 5-fold cross validation pe modelul KNN\n",
    "#     grid_search = GridSearchCV(estimator = model, \n",
    "#                                param_grid = parameter_grid, \n",
    "#                                scoring = scoring, \n",
    "#                                cv = cv, \n",
    "#                                return_train_score = True) #se foloseste pentru cv_results_ de mai jos\n",
    "    \n",
    "#     #antrenare pe setul de antrenare\n",
    "#     grid_search.fit(X_train, y_train)\n",
    "\n",
    "#     #dupa antrenare, se face o predictie folosind setul de testare\n",
    "#     y_estimated = grid_search.predict(X_test)\n",
    "    \n",
    "#     df_grid_search = pd.DataFrame(grid_search.cv_results_)\n",
    "#     df_grid_search.info()\n",
    "#     df_grid_search.head()\n",
    "    \n",
    "#     acc_score = accuracy_score(y_test, y_estimated)\n",
    "#     print(f'accuracy_score(y_test, y_estimated): {acc_score}') \n",
    "    \n",
    "#     best_params = grid_search.best_params_\n",
    "#     print(f'Best parameters: {best_params}')\n",
    "    \n",
    "    print(\"--------------------\")\n",
    "    print(\"5 over 4-fold cross validation (nested cross validation)\")\n",
    "    \n",
    "    #5 over 4-fold cross validation\n",
    "    grid_search_5cv = GridSearchCV(estimator = model, \n",
    "                                   param_grid = parameter_grid, \n",
    "                                   scoring = scoring_acc, \n",
    "                                   cv = cv,\n",
    "                                   return_train_score = True)\n",
    "    \n",
    "\n",
    "    #la fiecare rulare din 5-fold se face un 4-fold cross validation\n",
    "    scores = cross_val_score(grid_search_5cv, X, y, cv = cv_4)\n",
    "    \n",
    "    print(f'Scores for 4-fold cross validation:\\n {scores}')\n",
    "    print(f'Mean score for 4-fold cross validation: {scores.mean()}')\n",
    "    \n",
    "    grid_search_5cv.fit(X_train, y_train)\n",
    "    y_estimated = grid_search_5cv.predict(X_test)\n",
    "    \n",
    "    best_params = grid_search_5cv.best_params_\n",
    "    print(f'Best parameters: {best_params}')"
   ]
  },
  {
   "cell_type": "code",
   "execution_count": 14,
   "metadata": {},
   "outputs": [
    {
     "name": "stdout",
     "output_type": "stream",
     "text": [
      "--------------------\n",
      "5 over 4-fold cross validation\n",
      "Scores for 4-fold cross validation:\n",
      " [0.71111111 0.8        0.75       0.72727273]\n",
      "Mean score for 4-fold cross validation: 0.7470959595959596\n",
      "Best parameters: {'n_neighbors': 1, 'p': 1}\n"
     ]
    }
   ],
   "source": [
    "hyper_KNN(X_Wine_train, y_Wine_train, X_Wine_test, y_Wine_test, X_Wine, y_Wine)"
   ]
  },
  {
   "cell_type": "markdown",
   "metadata": {},
   "source": [
    "### 3. Documentation"
   ]
  },
  {
   "cell_type": "markdown",
   "metadata": {},
   "source": [
    "### 4. Hyperparameter search"
   ]
  }
 ],
 "metadata": {
  "kernelspec": {
   "display_name": "Python 3",
   "language": "python",
   "name": "python3"
  },
  "language_info": {
   "codemirror_mode": {
    "name": "ipython",
    "version": 3
   },
   "file_extension": ".py",
   "mimetype": "text/x-python",
   "name": "python",
   "nbconvert_exporter": "python",
   "pygments_lexer": "ipython3",
   "version": "3.7.6"
  },
  "notify_time": "5",
  "toc": {
   "base_numbering": 1,
   "nav_menu": {},
   "number_sections": true,
   "sideBar": true,
   "skip_h1_title": false,
   "title_cell": "Table of Contents",
   "title_sidebar": "Contents",
   "toc_cell": false,
   "toc_position": {},
   "toc_section_display": true,
   "toc_window_display": false
  },
  "varInspector": {
   "cols": {
    "lenName": 16,
    "lenType": 16,
    "lenVar": 40
   },
   "kernels_config": {
    "python": {
     "delete_cmd_postfix": "",
     "delete_cmd_prefix": "del ",
     "library": "var_list.py",
     "varRefreshCmd": "print(var_dic_list())"
    },
    "r": {
     "delete_cmd_postfix": ") ",
     "delete_cmd_prefix": "rm(",
     "library": "var_list.r",
     "varRefreshCmd": "cat(var_dic_list()) "
    }
   },
   "types_to_exclude": [
    "module",
    "function",
    "builtin_function_or_method",
    "instance",
    "_Feature"
   ],
   "window_display": false
  }
 },
 "nbformat": 4,
 "nbformat_minor": 2
}

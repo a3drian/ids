{
 "cells": [
  {
   "cell_type": "markdown",
   "metadata": {},
   "source": [
    "# Laborator 6\n",
    "\n",
    "Versiunea 2020-04-01"
   ]
  },
  {
   "cell_type": "markdown",
   "metadata": {},
   "source": [
    "## Modele de clasificare\n",
    "\n",
    "Folositi 4 seturi de date pentru probleme de clasificare, plecand de la repository-urile specificate in Cursul 5; de exemplu, [ics.uci.edu](http://archive.ics.uci.edu/ml/datasets.php?format=mat&task=cla&att=&area=&numAtt=&numIns=&type=mvar&sort=nameUp&view=table). Cel putin doua seturi de date sa fie cu valori lipsa. \n",
    "\n",
    "\n",
    "1. (20 puncte) Aplicati o metoda de missing value imputation, unde este cazul; justificati si documentati metoda folosita.\n",
    "1. (numar de modele * numar de seturi de date \\* 1 punct = 20 de puncte) Pentru fiecare set de date aplicati 5 modele de clasificare din scikit learn. Pentru fiecare raportati: acuratete, scorul F1 - a se vedea [sklearn.metrics](http://scikit-learn.org/stable/modules/classes.html#module-sklearn.metrics) - folosind 5 fold cross validation. Raportati mediile rezultatelor atat pentru fold-urile de antrenare, cat si pentru cele de testare. Rularile se vor face cu valori fixate ale hiperparametrilor. \n",
    "1. (numar modele * 4 puncte = 20 puncte) Documentati in jupyter notebook fiecare din modelele folosite, in limba romana. Daca acelasi algoritm e folosit pentru mai multe seturi de date, puteti face o sectiune separata cu documentarea algoritmilor + trimitere la algoritm. \n",
    "1. (numar de modele * numar de seturi de date * 1 punct = 20 de puncte) Raportati performanta fiecarui model, folosind 5 fold cross validation. Pentru fiecare din cele 5 rulari, cautati hiperparametrii optimi folosind 4-fold cross validation. Performanta modelului va fi raportata ca medie a celor  5 rulari. \n",
    "    *Observatie:* la fiecare din cele 5 rulari, hiperparametrii optimi pot diferi, din cauza datelor utilizate pentru antrenare/validare. \n",
    "\n",
    "Se acorda 20 de puncte din oficiu. "
   ]
  },
  {
   "cell_type": "markdown",
   "metadata": {},
   "source": [
    "Exemple de modele de clasificare:\n",
    "1. [Multi-layer Perceptron classifier](https://scikit-learn.org/stable/modules/generated/sklearn.neural_network.MLPClassifier.html#sklearn.neural_network.MLPClassifier)\n",
    "1. [KNN](https://scikit-learn.org/stable/modules/generated/sklearn.neighbors.KNeighborsClassifier.html#sklearn.neighbors.KNeighborsClassifier)\n",
    "1. [SVM](https://scikit-learn.org/stable/modules/generated/sklearn.svm.SVC.html#sklearn.svm.SVC)\n",
    "1. [Gaussian processes](https://scikit-learn.org/stable/modules/generated/sklearn.gaussian_process.GaussianProcessClassifier.html#sklearn.gaussian_process.GaussianProcessClassifier)\n",
    "1. [RBF](https://scikit-learn.org/stable/modules/generated/sklearn.gaussian_process.kernels.RBF.html#sklearn.gaussian_process.kernels.RBF)\n",
    "1. [Decision tree](https://scikit-learn.org/stable/modules/generated/sklearn.tree.DecisionTreeClassifier.html#sklearn.tree.DecisionTreeClassifier)\n",
    "1. [Random forest](https://scikit-learn.org/stable/modules/generated/sklearn.ensemble.RandomForestClassifier.html#sklearn.ensemble.RandomForestClassifier)\n",
    "1. [Gaussian Naive bayes](https://scikit-learn.org/stable/modules/generated/sklearn.naive_bayes.GaussianNB.html#sklearn.naive_bayes.GaussianNB) "
   ]
  },
  {
   "cell_type": "code",
   "execution_count": null,
   "metadata": {},
   "outputs": [],
   "source": [
    "import matplotlib.pyplot as plt\n",
    "import numpy as np\n",
    "import pandas as pd\n",
    "\n",
    "print ('numpy:', np.__version__)\n",
    "print ('pandas:', pd.__version__)\n",
    "\n",
    "import sklearn\n",
    "from sklearn import metrics\n",
    "from sklearn.metrics import accuracy_score\n",
    "from sklearn.metrics import f1_score\n",
    "from sklearn.model_selection import cross_val_score\n",
    "from sklearn.model_selection import train_test_split\n",
    "from sklearn.model_selection import GridSearchCV\n",
    "from sklearn.preprocessing import MinMaxScaler\n",
    "\n",
    "from sklearn.neighbors import KNeighborsClassifier\n",
    "from sklearn.neural_network import MLPClassifier"
   ]
  },
  {
   "cell_type": "markdown",
   "metadata": {},
   "source": [
    "### 1. Missing value imputation"
   ]
  },
  {
   "cell_type": "markdown",
   "metadata": {},
   "source": [
    "### 2. Accuracy and F1 score"
   ]
  },
  {
   "cell_type": "markdown",
   "metadata": {},
   "source": [
    "### Wine Data Set\n",
    "#### (http://archive.ics.uci.edu/ml/datasets/Wine)"
   ]
  },
  {
   "cell_type": "markdown",
   "metadata": {},
   "source": [
    "#### Load data"
   ]
  },
  {
   "cell_type": "code",
   "execution_count": null,
   "metadata": {
    "scrolled": false
   },
   "outputs": [],
   "source": [
    "wine_data = pd.read_csv('D:\\Projects\\Facultate\\II\\II_Sem_2_10_REPOS\\IDS\\Lab6\\Data\\Wine\\wine.data', header=None)\n",
    "wine_data.head()"
   ]
  },
  {
   "cell_type": "markdown",
   "metadata": {},
   "source": [
    "#### Interpret data"
   ]
  },
  {
   "cell_type": "code",
   "execution_count": null,
   "metadata": {},
   "outputs": [],
   "source": [
    "X_Wine = wine_data.values[:, 1:]\n",
    "y_Wine = wine_data.values[:, 0] #prima coloana reprezinta ground truth"
   ]
  },
  {
   "cell_type": "markdown",
   "metadata": {},
   "source": [
    "#### Preprocess data"
   ]
  },
  {
   "cell_type": "code",
   "execution_count": null,
   "metadata": {},
   "outputs": [],
   "source": [
    "def print_ranges(X):\n",
    "    for col_index in range(X.shape[1]):\n",
    "        column = X[:, col_index]\n",
    "        print(f'{np.min(column)} \\t {np.max(column)}')\n",
    "        \n",
    "print_ranges(X_Wine)"
   ]
  },
  {
   "cell_type": "markdown",
   "metadata": {},
   "source": [
    "#### Scale data"
   ]
  },
  {
   "cell_type": "code",
   "execution_count": null,
   "metadata": {},
   "outputs": [],
   "source": [
    "def scale_data(m: np.array) -> np.array:    \n",
    "    scaler = MinMaxScaler()\n",
    "    scaler.fit(m)\n",
    "    return scaler.transform(m)"
   ]
  },
  {
   "cell_type": "code",
   "execution_count": null,
   "metadata": {},
   "outputs": [],
   "source": [
    "X_Wine = scale_data(X_Wine)\n",
    "print_ranges(X_Wine)"
   ]
  },
  {
   "cell_type": "markdown",
   "metadata": {},
   "source": [
    "#### Split data"
   ]
  },
  {
   "cell_type": "code",
   "execution_count": null,
   "metadata": {},
   "outputs": [],
   "source": [
    "test_size = 1/3\n",
    "random_state = 5\n",
    "X_Wine_train, X_Wine_test, y_Wine_train, y_Wine_test = train_test_split(X_Wine, y_Wine, test_size=test_size, random_state=random_state)"
   ]
  },
  {
   "cell_type": "markdown",
   "metadata": {},
   "source": [
    "### Multi-layer Perceptron classifier"
   ]
  },
  {
   "cell_type": "markdown",
   "metadata": {},
   "source": [
    "#### Fit data"
   ]
  },
  {
   "cell_type": "code",
   "execution_count": null,
   "metadata": {},
   "outputs": [],
   "source": [
    "max_iters = 10000\n",
    "model_MLPC_Wine = MLPClassifier(max_iter=max_iters)\n",
    "model_MLPC_Wine.fit(X_Wine_train, y_Wine_train)"
   ]
  },
  {
   "cell_type": "markdown",
   "metadata": {},
   "source": [
    "#### Predict"
   ]
  },
  {
   "cell_type": "code",
   "execution_count": null,
   "metadata": {},
   "outputs": [],
   "source": [
    "y_Wine_h_MLPC = model_MLPC_Wine.predict(X_Wine_test)"
   ]
  },
  {
   "cell_type": "markdown",
   "metadata": {},
   "source": [
    "#### Accuracy"
   ]
  },
  {
   "cell_type": "code",
   "execution_count": null,
   "metadata": {},
   "outputs": [],
   "source": [
    "accuracy_MLPC_Wine = accuracy_score(y_Wine_test, y_Wine_h_MLPC)\n",
    "print(f'Accuracy (MLPC): {accuracy_MLPC_Wine}')"
   ]
  },
  {
   "cell_type": "markdown",
   "metadata": {},
   "source": [
    "#### Accuracy and F1 score using 5-fold cross validation"
   ]
  },
  {
   "cell_type": "code",
   "execution_count": null,
   "metadata": {},
   "outputs": [],
   "source": [
    "cv = 5\n",
    "scoring_acc = 'accuracy'\n",
    "scoring_f1 = 'f1_macro'\n",
    "average_f1 = 'weighted'"
   ]
  },
  {
   "cell_type": "code",
   "execution_count": null,
   "metadata": {},
   "outputs": [],
   "source": [
    "#Accuracy (5-fold)\n",
    "score_MLPC_Wine_accuracy = cross_val_score(model_MLPC_Wine, X_Wine, y_Wine, cv=cv, scoring=scoring_acc)\n",
    "print(f'Accuracy (MLPC, 5-fold cv):\\n {score_MLPC_Wine_accuracy}')\n",
    "mean_score_MLPC_Wine_accuracy = score_MLPC_Wine_accuracy.mean()\n",
    "print(f'Mean Accuracy (MLPC, 5-fold cv): {mean_score_MLPC_Wine_accuracy}')"
   ]
  },
  {
   "cell_type": "code",
   "execution_count": null,
   "metadata": {},
   "outputs": [],
   "source": [
    "#F1 score (5-fold)\n",
    "score_MLPC_Wine_f1 = f1_score(y_Wine_test, y_Wine_h_MLPC, average=average_f1)\n",
    "print(f'F1 score (MLPC, 5-fold cv):\\n {score_MLPC_Wine_f1}')"
   ]
  },
  {
   "cell_type": "code",
   "execution_count": null,
   "metadata": {},
   "outputs": [],
   "source": [
    "#Accuracy (5-fold) for training and test set\n",
    "score_MLPC_Wine_accuracy_train = cross_val_score(model_MLPC_Wine, X_Wine_train, y_Wine_train, cv=cv, scoring=scoring_acc)\n",
    "print(f'Accuracy (MLPC, 5-fold cv, train):\\n {score_MLPC_Wine_accuracy_train}')\n",
    "\n",
    "mean_score_MLPC_Wine_accuracy_train = score_MLPC_Wine_accuracy_train.mean()\n",
    "print(f'Mean Accuracy (MLPC, 5-fold cv, train): {mean_score_MLPC_Wine_accuracy_train}')\n",
    "\n",
    "print()\n",
    "\n",
    "score_MLPC_Wine_accuracy_test = cross_val_score(model_MLPC_Wine, X_Wine_test, y_Wine_test, cv=cv, scoring=scoring_acc)\n",
    "print(f'Accuracy (MLPC, 5-fold cv, test):\\n {score_MLPC_Wine_accuracy_test}')\n",
    "\n",
    "mean_score_MLPC_Wine_accuracy_test = score_MLPC_Wine_accuracy_test.mean()\n",
    "print(f'Mean Accuracy (MLPC, 5-fold cv, test): {mean_score_MLPC_Wine_accuracy_test}')"
   ]
  },
  {
   "cell_type": "code",
   "execution_count": null,
   "metadata": {},
   "outputs": [],
   "source": [
    "#F1 score (5-fold) for training and test set\n",
    "score_MLPC_Wine_f1_train = cross_val_score(model_MLPC_Wine, X_Wine_train, y_Wine_train, cv=cv, scoring=scoring_f1)\n",
    "print(f'F1 score (MLPC, 5-fold cv, train):\\n {score_MLPC_Wine_f1_train}')\n",
    "\n",
    "mean_score_MLPC_Wine_f1_train = score_MLPC_Wine_f1_train.mean()\n",
    "print(f'Mean F1 score (MLPC, 5-fold cv, train): {mean_score_MLPC_Wine_f1_train}')\n",
    "\n",
    "print()\n",
    "\n",
    "score_MLPC_Wine_f1_test = cross_val_score(model_MLPC_Wine, X_Wine_test, y_Wine_test, cv=cv, scoring=scoring_f1)\n",
    "print(f'F1 score (MLPC, 5-fold cv, test):\\n {score_MLPC_Wine_f1_test}')\n",
    "\n",
    "mean_score_MLPC_Wine_f1_test = score_MLPC_Wine_f1_test.mean()\n",
    "print(f'Mean F1 score (MLPC, 5-fold cv, test): {mean_score_MLPC_Wine_f1_test}')"
   ]
  },
  {
   "cell_type": "markdown",
   "metadata": {},
   "source": [
    "#### Hyperparameter search"
   ]
  },
  {
   "cell_type": "code",
   "execution_count": null,
   "metadata": {},
   "outputs": [],
   "source": []
  },
  {
   "cell_type": "markdown",
   "metadata": {},
   "source": [
    "### KNN"
   ]
  },
  {
   "cell_type": "markdown",
   "metadata": {},
   "source": [
    "#### Fit data"
   ]
  },
  {
   "cell_type": "code",
   "execution_count": null,
   "metadata": {},
   "outputs": [],
   "source": [
    "model_KNN_Wine = KNeighborsClassifier(n_neighbors=5)\n",
    "model_KNN_Wine.fit(X_Wine_train, y_Wine_train)"
   ]
  },
  {
   "cell_type": "markdown",
   "metadata": {},
   "source": [
    "#### Predict"
   ]
  },
  {
   "cell_type": "code",
   "execution_count": null,
   "metadata": {},
   "outputs": [],
   "source": [
    "y_Wine_h_KNN = model_KNN_Wine.predict(X_Wine_test)"
   ]
  },
  {
   "cell_type": "markdown",
   "metadata": {},
   "source": [
    "#### Accuracy"
   ]
  },
  {
   "cell_type": "code",
   "execution_count": null,
   "metadata": {},
   "outputs": [],
   "source": [
    "accuracy_KNN_Wine = accuracy_score(y_Wine_test, y_Wine_h_KNN)\n",
    "print(f'Accuracy (KNN): {accuracy_KNN_Wine}')"
   ]
  },
  {
   "cell_type": "markdown",
   "metadata": {},
   "source": [
    "#### Accuracy and F1 score using 5-fold cross validation"
   ]
  },
  {
   "cell_type": "code",
   "execution_count": null,
   "metadata": {},
   "outputs": [],
   "source": [
    "cv = 5\n",
    "scoring_acc = 'accuracy'\n",
    "scoring_f1 = 'f1_macro'"
   ]
  },
  {
   "cell_type": "code",
   "execution_count": null,
   "metadata": {},
   "outputs": [],
   "source": [
    "#Accuracy (5-fold)\n",
    "score_KNN_Wine_accuracy = cross_val_score(model_KNN_Wine, X_Wine, y_Wine, cv=cv, scoring=scoring_acc)\n",
    "print(f'Accuracy (KNN, 5-fold cv):\\n {score_KNN_Wine_accuracy}')\n",
    "mean_score_KNN_Wine_accuracy = score_KNN_Wine_accuracy.mean()\n",
    "print(f'Mean Accuracy (KNN, 5-fold cv): {mean_score_KNN_Wine_accuracy}')"
   ]
  },
  {
   "cell_type": "code",
   "execution_count": null,
   "metadata": {},
   "outputs": [],
   "source": [
    "#F1 score (5-fold)\n",
    "score_KNN_Wine_f1 = f1_score(y_Wine_test, y_Wine_h_KNN, average='weighted')\n",
    "print(f'F1 score (KNN, 5-fold cv):\\n {score_KNN_Wine_f1}')"
   ]
  },
  {
   "cell_type": "code",
   "execution_count": null,
   "metadata": {},
   "outputs": [],
   "source": [
    "#Accuracy (5-fold) for training and test set\n",
    "score_KNN_Wine_accuracy_train = cross_val_score(model_KNN_Wine, X_Wine_train, y_Wine_train, cv=cv, scoring=scoring_acc)\n",
    "print(f'Accuracy (KNN, 5-fold cv, train):\\n {score_KNN_Wine_accuracy_train}')\n",
    "\n",
    "mean_score_KNN_Wine_accuracy_train = score_KNN_Wine_accuracy_train.mean()\n",
    "print(f'Mean Accuracy (KNN, 5-fold cv, train): {mean_score_KNN_Wine_accuracy_train}')\n",
    "\n",
    "print()\n",
    "\n",
    "score_KNN_Wine_accuracy_test = cross_val_score(model_KNN_Wine, X_Wine_test, y_Wine_test, cv=cv, scoring=scoring_acc)\n",
    "print(f'Accuracy (KNN, 5-fold cv, test):\\n {score_KNN_Wine_accuracy_test}')\n",
    "\n",
    "mean_score_KNN_Wine_accuracy_test = score_KNN_Wine_accuracy_test.mean()\n",
    "print(f'Mean Accuracy (KNN, 5-fold cv, test): {mean_score_KNN_Wine_accuracy_test}')"
   ]
  },
  {
   "cell_type": "code",
   "execution_count": null,
   "metadata": {},
   "outputs": [],
   "source": [
    "#F1 score (5-fold) for training and test set\n",
    "score_KNN_Wine_f1_train = cross_val_score(model_KNN_Wine, X_Wine_train, y_Wine_train, cv=cv, scoring=scoring_f1)\n",
    "print(f'F1 score (KNN, 5-fold cv, train):\\n {score_KNN_Wine_f1_train}')\n",
    "\n",
    "mean_score_KNN_Wine_f1_train = score_KNN_Wine_f1_train.mean()\n",
    "print(f'Mean F1 score (KNN, 5-fold cv, train): {mean_score_KNN_Wine_f1_train}')\n",
    "\n",
    "print()\n",
    "\n",
    "score_KNN_Wine_f1_test = cross_val_score(model_KNN_Wine, X_Wine_test, y_Wine_test, cv=cv, scoring=scoring_f1)\n",
    "print(f'F1 score (KNN, 5-fold cv, test):\\n {score_KNN_Wine_f1_test}')\n",
    "\n",
    "mean_score_KNN_Wine_f1_test = score_KNN_Wine_f1_test.mean()\n",
    "print(f'Mean F1 score (KNN, 5-fold cv, test): {mean_score_KNN_Wine_f1_test}')"
   ]
  },
  {
   "cell_type": "markdown",
   "metadata": {},
   "source": [
    "#### Hyperparameter search"
   ]
  },
  {
   "cell_type": "code",
   "execution_count": null,
   "metadata": {},
   "outputs": [],
   "source": [
    "cv = 5\n",
    "cv_4 = 4\n",
    "scoring_acc = 'accuracy'\n",
    "scoring_f1 = 'f1_micro'\n",
    "average_f1 = 'micro'"
   ]
  },
  {
   "cell_type": "code",
   "execution_count": null,
   "metadata": {},
   "outputs": [],
   "source": [
    "parameter_grid = {'n_neighbors': list(range(1, 10)), 'p': [1, 2, 3, 4.7]}\n",
    "\n",
    "def hyper_KNN(X_train, y_train, X_test, y_test, X, y) -> None:\n",
    "    \n",
    "    \"\"\"\n",
    "    :param X: matricea de intrare\n",
    "    :param y: ground truth\n",
    "    \"\"\"\n",
    "    \n",
    "    print(\"5 over 4-fold cross validation (nested cross validation)\")\n",
    "    \n",
    "    #initializam modelul de clasificare\n",
    "    model = KNeighborsClassifier()\n",
    "    \n",
    "    #initializam GridSearch pentru Accuracy\n",
    "    grid_search_acc = GridSearchCV(estimator = model,\n",
    "                                   param_grid = parameter_grid, \n",
    "                                   scoring = scoring_acc, \n",
    "                                   cv = cv,\n",
    "                                   return_train_score = True)   \n",
    "    \n",
    "    #la fiecare rulare din 5-fold se face un 4-fold cross validation\n",
    "    scores_acc = cross_val_score(grid_search_acc, X, y, cv = cv_4)\n",
    "    \n",
    "    print('Accuracy:')\n",
    "    \n",
    "    print(f'Scores for 4-fold cross validation:\\n {scores_acc}')\n",
    "    print(f'Mean score for 4-fold cross validation: {scores_acc.mean()}')\n",
    "    \n",
    "    grid_search_acc.fit(X_train, y_train)\n",
    "    y_estimated_acc = grid_search_acc.predict(X_test)\n",
    "        \n",
    "    acc_score = accuracy_score(y_test, y_estimated_acc)\n",
    "    print(f'accuracy_score(y_test, y_estimated_acc): {acc_score}') \n",
    "    \n",
    "    best_params = grid_search_acc.best_params_\n",
    "    print(f'Best parameters (X_test): {best_params}')\n",
    "    \n",
    "    #initializam GridSearch pentru F1 score\n",
    "    grid_search_f1 = GridSearchCV(estimator = model,\n",
    "                                  param_grid = parameter_grid,\n",
    "                                  scoring = scoring_f1,\n",
    "                                  cv = cv,\n",
    "                                  return_train_score = True)\n",
    "    \n",
    "    #la fiecare rulare din 5-fold se face un 4-fold cross validation\n",
    "    scores_f1 = cross_val_score(grid_search_f1, X, y, cv = cv_4)  \n",
    "    \n",
    "    print('F1 score:')\n",
    "    \n",
    "    print(f'Scores for 4-fold cross validation:\\n {scores_f1}')\n",
    "    print(f'Mean score for 4-fold cross validation: {scores_f1.mean()}')\n",
    "    \n",
    "    grid_search_f1.fit(X_train, y_train)\n",
    "    y_estimated_f1 = grid_search_f1.predict(X_test)\n",
    "        \n",
    "    f1_sc = f1_score(y_test, y_estimated_f1, average=average_f1)\n",
    "    print(f'f1_score(y_test, y_estimated_f1): {f1_sc}') \n",
    "    \n",
    "    best_params = grid_search_f1.best_params_\n",
    "    print(f'Best parameters (X_test): {best_params}')"
   ]
  },
  {
   "cell_type": "code",
   "execution_count": null,
   "metadata": {},
   "outputs": [],
   "source": [
    "hyper_KNN(X_Wine_train, y_Wine_train, X_Wine_test, y_Wine_test, X_Wine, y_Wine)"
   ]
  },
  {
   "cell_type": "markdown",
   "metadata": {},
   "source": [
    "### 3. Documentation"
   ]
  },
  {
   "cell_type": "markdown",
   "metadata": {},
   "source": [
    "### 4. Hyperparameter search"
   ]
  }
 ],
 "metadata": {
  "kernelspec": {
   "display_name": "Python 3",
   "language": "python",
   "name": "python3"
  },
  "language_info": {
   "codemirror_mode": {
    "name": "ipython",
    "version": 3
   },
   "file_extension": ".py",
   "mimetype": "text/x-python",
   "name": "python",
   "nbconvert_exporter": "python",
   "pygments_lexer": "ipython3",
   "version": "3.7.6"
  },
  "notify_time": "5",
  "toc": {
   "base_numbering": 1,
   "nav_menu": {},
   "number_sections": true,
   "sideBar": true,
   "skip_h1_title": false,
   "title_cell": "Table of Contents",
   "title_sidebar": "Contents",
   "toc_cell": false,
   "toc_position": {},
   "toc_section_display": true,
   "toc_window_display": false
  },
  "varInspector": {
   "cols": {
    "lenName": 16,
    "lenType": 16,
    "lenVar": 40
   },
   "kernels_config": {
    "python": {
     "delete_cmd_postfix": "",
     "delete_cmd_prefix": "del ",
     "library": "var_list.py",
     "varRefreshCmd": "print(var_dic_list())"
    },
    "r": {
     "delete_cmd_postfix": ") ",
     "delete_cmd_prefix": "rm(",
     "library": "var_list.r",
     "varRefreshCmd": "cat(var_dic_list()) "
    }
   },
   "types_to_exclude": [
    "module",
    "function",
    "builtin_function_or_method",
    "instance",
    "_Feature"
   ],
   "window_display": false
  }
 },
 "nbformat": 4,
 "nbformat_minor": 2
}
